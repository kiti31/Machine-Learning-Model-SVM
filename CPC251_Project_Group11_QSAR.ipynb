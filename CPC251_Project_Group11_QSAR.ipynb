{
 "cells": [
  {
   "cell_type": "markdown",
   "metadata": {},
   "source": [
    "## CPC251 Machine Learning and Computational Intelligence\n",
    "\n",
    "## Project\n",
    "\n",
    "## Group11_QSAR\n",
    "\n",
    "### Sumission Date : 4 July 2021\n",
    "\n",
    "### Lecturer : Dr. Mohd Halim Mohd Noor, Dr. Mohd Nadhir Ab Wahab\n",
    "     \n",
    "\n",
    "### Group members :\n",
    "### 1. Kirtiniroopa Shankar (146127)\n",
    "### 2. Pamela Rabecca Saraswathy (146958)\n",
    "### 3. Siti Zainab Binti Sahardin (147672)\n",
    "### 4. Rafia  Hossain (149684)"
   ]
  },
  {
   "cell_type": "markdown",
   "metadata": {},
   "source": [
    "## Installing Libraries"
   ]
  },
  {
   "cell_type": "markdown",
   "metadata": {},
   "source": [
    "#### Installing mlxtend library"
   ]
  },
  {
   "cell_type": "code",
   "execution_count": 1,
   "metadata": {},
   "outputs": [
    {
     "name": "stdout",
     "output_type": "stream",
     "text": [
      "Requirement already satisfied: mlxtend in c:\\users\\user\\anaconda3\\lib\\site-packages (0.18.0)\n",
      "Requirement already satisfied: setuptools in c:\\users\\user\\anaconda3\\lib\\site-packages (from mlxtend) (45.2.0.post20200210)\n",
      "Requirement already satisfied: numpy>=1.16.2 in c:\\users\\user\\anaconda3\\lib\\site-packages (from mlxtend) (1.18.1)\n",
      "Requirement already satisfied: joblib>=0.13.2 in c:\\users\\user\\anaconda3\\lib\\site-packages (from mlxtend) (0.14.1)\n",
      "Requirement already satisfied: scikit-learn>=0.20.3 in c:\\users\\user\\anaconda3\\lib\\site-packages (from mlxtend) (0.24.2)\n",
      "Requirement already satisfied: scipy>=1.2.1 in c:\\users\\user\\anaconda3\\lib\\site-packages (from mlxtend) (1.4.1)\n",
      "Requirement already satisfied: pandas>=0.24.2 in c:\\users\\user\\anaconda3\\lib\\site-packages (from mlxtend) (1.0.1)\n",
      "Requirement already satisfied: matplotlib>=3.0.0 in c:\\users\\user\\anaconda3\\lib\\site-packages (from mlxtend) (3.1.3)\n",
      "Requirement already satisfied: threadpoolctl>=2.0.0 in c:\\users\\user\\anaconda3\\lib\\site-packages (from scikit-learn>=0.20.3->mlxtend) (2.1.0)\n",
      "Requirement already satisfied: python-dateutil>=2.6.1 in c:\\users\\user\\anaconda3\\lib\\site-packages (from pandas>=0.24.2->mlxtend) (2.8.1)\n",
      "Requirement already satisfied: pytz>=2017.2 in c:\\users\\user\\anaconda3\\lib\\site-packages (from pandas>=0.24.2->mlxtend) (2019.3)\n",
      "Requirement already satisfied: cycler>=0.10 in c:\\users\\user\\anaconda3\\lib\\site-packages (from matplotlib>=3.0.0->mlxtend) (0.10.0)\n",
      "Requirement already satisfied: kiwisolver>=1.0.1 in c:\\users\\user\\anaconda3\\lib\\site-packages (from matplotlib>=3.0.0->mlxtend) (1.1.0)\n",
      "Requirement already satisfied: pyparsing!=2.0.4,!=2.1.2,!=2.1.6,>=2.0.1 in c:\\users\\user\\anaconda3\\lib\\site-packages (from matplotlib>=3.0.0->mlxtend) (2.4.6)\n",
      "Requirement already satisfied: six>=1.5 in c:\\users\\user\\anaconda3\\lib\\site-packages (from python-dateutil>=2.6.1->pandas>=0.24.2->mlxtend) (1.14.0)\n",
      "Note: you may need to restart the kernel to use updated packages.\n"
     ]
    }
   ],
   "source": [
    "pip install mlxtend  "
   ]
  },
  {
   "cell_type": "markdown",
   "metadata": {},
   "source": [
    "#### Installing scikit-fuzzy to import skfuzzy"
   ]
  },
  {
   "cell_type": "code",
   "execution_count": 2,
   "metadata": {},
   "outputs": [
    {
     "name": "stdout",
     "output_type": "stream",
     "text": [
      "Requirement already up-to-date: scikit-fuzzy in c:\\users\\user\\anaconda3\\lib\\site-packages (0.4.2)\n",
      "Requirement already satisfied, skipping upgrade: networkx>=1.9.0 in c:\\users\\user\\anaconda3\\lib\\site-packages (from scikit-fuzzy) (2.4)\n",
      "Requirement already satisfied, skipping upgrade: numpy>=1.6.0 in c:\\users\\user\\anaconda3\\lib\\site-packages (from scikit-fuzzy) (1.18.1)\n",
      "Requirement already satisfied, skipping upgrade: scipy>=0.9.0 in c:\\users\\user\\anaconda3\\lib\\site-packages (from scikit-fuzzy) (1.4.1)\n",
      "Requirement already satisfied, skipping upgrade: decorator>=4.3.0 in c:\\users\\user\\anaconda3\\lib\\site-packages (from networkx>=1.9.0->scikit-fuzzy) (4.4.1)\n",
      "Note: you may need to restart the kernel to use updated packages.\n"
     ]
    }
   ],
   "source": [
    "pip install -U scikit-fuzzy"
   ]
  },
  {
   "cell_type": "markdown",
   "metadata": {},
   "source": [
    "## Loading Data"
   ]
  },
  {
   "cell_type": "markdown",
   "metadata": {},
   "source": [
    "#### Import the libraries needed"
   ]
  },
  {
   "cell_type": "code",
   "execution_count": 49,
   "metadata": {},
   "outputs": [],
   "source": [
    "import pandas as pd\n",
    "import numpy as np\n",
    "%matplotlib inline\n",
    "import warnings\n",
    "warnings.filterwarnings('ignore')"
   ]
  },
  {
   "cell_type": "markdown",
   "metadata": {},
   "source": [
    "#### Importing necessary libraries for Feature Selection"
   ]
  },
  {
   "cell_type": "code",
   "execution_count": 50,
   "metadata": {},
   "outputs": [],
   "source": [
    "from sklearn.ensemble import RandomForestClassifier\n",
    "from mlxtend.feature_selection import SequentialFeatureSelector as SFS"
   ]
  },
  {
   "cell_type": "markdown",
   "metadata": {},
   "source": [
    "#### Import the dataset (QSAR biodegradation dataset by reading from the file \"biodeg.csv\"):"
   ]
  },
  {
   "cell_type": "code",
   "execution_count": 77,
   "metadata": {},
   "outputs": [
    {
     "name": "stdout",
     "output_type": "stream",
     "text": [
      "Keys :  Index(['SpMax_L', 'J_Dz(e)', 'nHM', 'F01[N-N]', 'F04[C-N]', 'NssssC', 'nCb-',\n",
      "       'C%', 'nCp', 'nO', 'F03[C-N]', 'SdssC', 'HyWi_B(m)', 'LOC', 'SM6_L',\n",
      "       'F03[C-O]', 'Me', 'Mi', 'nN-N', 'nArNO2', 'nCRX3', 'SpPosA_B(p)',\n",
      "       'nCIR', 'B01[C-Br]', 'B03[C-Cl]', 'N-073', 'SpMax_A', 'Psi_i_1d',\n",
      "       'B04[C-Br]', 'SdO', 'TI2_L', 'nCrt', 'C-026', 'F02[C-N]', 'nHDon',\n",
      "       'SpMax_B(m)', 'Psi_i_A', 'nN', 'SM6_B(m)', 'nArCOOR', 'nX',\n",
      "       'experimental_class'],\n",
      "      dtype='object')\n",
      "\n",
      "\n",
      "Dataset Shape :  (1055, 42)\n"
     ]
    },
    {
     "data": {
      "text/html": [
       "<div>\n",
       "<style scoped>\n",
       "    .dataframe tbody tr th:only-of-type {\n",
       "        vertical-align: middle;\n",
       "    }\n",
       "\n",
       "    .dataframe tbody tr th {\n",
       "        vertical-align: top;\n",
       "    }\n",
       "\n",
       "    .dataframe thead th {\n",
       "        text-align: right;\n",
       "    }\n",
       "</style>\n",
       "<table border=\"1\" class=\"dataframe\">\n",
       "  <thead>\n",
       "    <tr style=\"text-align: right;\">\n",
       "      <th></th>\n",
       "      <th>SpMax_L</th>\n",
       "      <th>J_Dz(e)</th>\n",
       "      <th>nHM</th>\n",
       "      <th>F01[N-N]</th>\n",
       "      <th>F04[C-N]</th>\n",
       "      <th>NssssC</th>\n",
       "      <th>nCb-</th>\n",
       "      <th>C%</th>\n",
       "      <th>nCp</th>\n",
       "      <th>nO</th>\n",
       "      <th>...</th>\n",
       "      <th>C-026</th>\n",
       "      <th>F02[C-N]</th>\n",
       "      <th>nHDon</th>\n",
       "      <th>SpMax_B(m)</th>\n",
       "      <th>Psi_i_A</th>\n",
       "      <th>nN</th>\n",
       "      <th>SM6_B(m)</th>\n",
       "      <th>nArCOOR</th>\n",
       "      <th>nX</th>\n",
       "      <th>experimental_class</th>\n",
       "    </tr>\n",
       "  </thead>\n",
       "  <tbody>\n",
       "    <tr>\n",
       "      <th>0</th>\n",
       "      <td>3.919</td>\n",
       "      <td>2.6909</td>\n",
       "      <td>0</td>\n",
       "      <td>0</td>\n",
       "      <td>0</td>\n",
       "      <td>0</td>\n",
       "      <td>0</td>\n",
       "      <td>31.4</td>\n",
       "      <td>2</td>\n",
       "      <td>0</td>\n",
       "      <td>...</td>\n",
       "      <td>0</td>\n",
       "      <td>0</td>\n",
       "      <td>0</td>\n",
       "      <td>2.949</td>\n",
       "      <td>1.591</td>\n",
       "      <td>0</td>\n",
       "      <td>7.253</td>\n",
       "      <td>0</td>\n",
       "      <td>0</td>\n",
       "      <td>RB</td>\n",
       "    </tr>\n",
       "    <tr>\n",
       "      <th>1</th>\n",
       "      <td>4.170</td>\n",
       "      <td>2.1144</td>\n",
       "      <td>0</td>\n",
       "      <td>0</td>\n",
       "      <td>0</td>\n",
       "      <td>0</td>\n",
       "      <td>0</td>\n",
       "      <td>30.8</td>\n",
       "      <td>1</td>\n",
       "      <td>1</td>\n",
       "      <td>...</td>\n",
       "      <td>0</td>\n",
       "      <td>0</td>\n",
       "      <td>0</td>\n",
       "      <td>3.315</td>\n",
       "      <td>1.967</td>\n",
       "      <td>0</td>\n",
       "      <td>7.257</td>\n",
       "      <td>0</td>\n",
       "      <td>0</td>\n",
       "      <td>RB</td>\n",
       "    </tr>\n",
       "    <tr>\n",
       "      <th>2</th>\n",
       "      <td>3.932</td>\n",
       "      <td>3.2512</td>\n",
       "      <td>0</td>\n",
       "      <td>0</td>\n",
       "      <td>0</td>\n",
       "      <td>0</td>\n",
       "      <td>0</td>\n",
       "      <td>26.7</td>\n",
       "      <td>2</td>\n",
       "      <td>4</td>\n",
       "      <td>...</td>\n",
       "      <td>0</td>\n",
       "      <td>0</td>\n",
       "      <td>1</td>\n",
       "      <td>3.076</td>\n",
       "      <td>2.417</td>\n",
       "      <td>0</td>\n",
       "      <td>7.601</td>\n",
       "      <td>0</td>\n",
       "      <td>0</td>\n",
       "      <td>RB</td>\n",
       "    </tr>\n",
       "    <tr>\n",
       "      <th>3</th>\n",
       "      <td>3.000</td>\n",
       "      <td>2.7098</td>\n",
       "      <td>0</td>\n",
       "      <td>0</td>\n",
       "      <td>0</td>\n",
       "      <td>0</td>\n",
       "      <td>0</td>\n",
       "      <td>20.0</td>\n",
       "      <td>0</td>\n",
       "      <td>2</td>\n",
       "      <td>...</td>\n",
       "      <td>0</td>\n",
       "      <td>0</td>\n",
       "      <td>1</td>\n",
       "      <td>3.046</td>\n",
       "      <td>5.000</td>\n",
       "      <td>0</td>\n",
       "      <td>6.690</td>\n",
       "      <td>0</td>\n",
       "      <td>0</td>\n",
       "      <td>RB</td>\n",
       "    </tr>\n",
       "    <tr>\n",
       "      <th>4</th>\n",
       "      <td>4.236</td>\n",
       "      <td>3.3944</td>\n",
       "      <td>0</td>\n",
       "      <td>0</td>\n",
       "      <td>0</td>\n",
       "      <td>0</td>\n",
       "      <td>0</td>\n",
       "      <td>29.4</td>\n",
       "      <td>2</td>\n",
       "      <td>4</td>\n",
       "      <td>...</td>\n",
       "      <td>0</td>\n",
       "      <td>0</td>\n",
       "      <td>0</td>\n",
       "      <td>3.351</td>\n",
       "      <td>2.405</td>\n",
       "      <td>0</td>\n",
       "      <td>8.003</td>\n",
       "      <td>0</td>\n",
       "      <td>0</td>\n",
       "      <td>RB</td>\n",
       "    </tr>\n",
       "  </tbody>\n",
       "</table>\n",
       "<p>5 rows × 42 columns</p>\n",
       "</div>"
      ],
      "text/plain": [
       "   SpMax_L  J_Dz(e)  nHM  F01[N-N]  F04[C-N]  NssssC  nCb-    C%  nCp  nO  \\\n",
       "0    3.919   2.6909    0         0         0       0     0  31.4    2   0   \n",
       "1    4.170   2.1144    0         0         0       0     0  30.8    1   1   \n",
       "2    3.932   3.2512    0         0         0       0     0  26.7    2   4   \n",
       "3    3.000   2.7098    0         0         0       0     0  20.0    0   2   \n",
       "4    4.236   3.3944    0         0         0       0     0  29.4    2   4   \n",
       "\n",
       "   ...  C-026  F02[C-N]  nHDon  SpMax_B(m)  Psi_i_A  nN  SM6_B(m)  nArCOOR  \\\n",
       "0  ...      0         0      0       2.949    1.591   0     7.253        0   \n",
       "1  ...      0         0      0       3.315    1.967   0     7.257        0   \n",
       "2  ...      0         0      1       3.076    2.417   0     7.601        0   \n",
       "3  ...      0         0      1       3.046    5.000   0     6.690        0   \n",
       "4  ...      0         0      0       3.351    2.405   0     8.003        0   \n",
       "\n",
       "   nX  experimental_class  \n",
       "0   0                  RB  \n",
       "1   0                  RB  \n",
       "2   0                  RB  \n",
       "3   0                  RB  \n",
       "4   0                  RB  \n",
       "\n",
       "[5 rows x 42 columns]"
      ]
     },
     "execution_count": 77,
     "metadata": {},
     "output_type": "execute_result"
    }
   ],
   "source": [
    "biodeg = pd.read_csv('biodeg.csv', sep=';')\n",
    "\n",
    "#printing details of data\n",
    "print(\"Keys : \", biodeg.keys())\n",
    "print(\"\\n\")\n",
    "print(\"Dataset Shape : \",biodeg.shape)\n",
    "biodeg.head()"
   ]
  },
  {
   "cell_type": "markdown",
   "metadata": {},
   "source": [
    "#### Setting experimental_class as our target feature in y and the features to be selected from in x"
   ]
  },
  {
   "cell_type": "code",
   "execution_count": 78,
   "metadata": {},
   "outputs": [
    {
     "name": "stdout",
     "output_type": "stream",
     "text": [
      "(1055, 41)\n"
     ]
    },
    {
     "data": {
      "text/html": [
       "<div>\n",
       "<style scoped>\n",
       "    .dataframe tbody tr th:only-of-type {\n",
       "        vertical-align: middle;\n",
       "    }\n",
       "\n",
       "    .dataframe tbody tr th {\n",
       "        vertical-align: top;\n",
       "    }\n",
       "\n",
       "    .dataframe thead th {\n",
       "        text-align: right;\n",
       "    }\n",
       "</style>\n",
       "<table border=\"1\" class=\"dataframe\">\n",
       "  <thead>\n",
       "    <tr style=\"text-align: right;\">\n",
       "      <th></th>\n",
       "      <th>SpMax_L</th>\n",
       "      <th>J_Dz(e)</th>\n",
       "      <th>nHM</th>\n",
       "      <th>F01[N-N]</th>\n",
       "      <th>F04[C-N]</th>\n",
       "      <th>NssssC</th>\n",
       "      <th>nCb-</th>\n",
       "      <th>C%</th>\n",
       "      <th>nCp</th>\n",
       "      <th>nO</th>\n",
       "      <th>...</th>\n",
       "      <th>nCrt</th>\n",
       "      <th>C-026</th>\n",
       "      <th>F02[C-N]</th>\n",
       "      <th>nHDon</th>\n",
       "      <th>SpMax_B(m)</th>\n",
       "      <th>Psi_i_A</th>\n",
       "      <th>nN</th>\n",
       "      <th>SM6_B(m)</th>\n",
       "      <th>nArCOOR</th>\n",
       "      <th>nX</th>\n",
       "    </tr>\n",
       "  </thead>\n",
       "  <tbody>\n",
       "    <tr>\n",
       "      <th>0</th>\n",
       "      <td>3.919</td>\n",
       "      <td>2.6909</td>\n",
       "      <td>0</td>\n",
       "      <td>0</td>\n",
       "      <td>0</td>\n",
       "      <td>0</td>\n",
       "      <td>0</td>\n",
       "      <td>31.4</td>\n",
       "      <td>2</td>\n",
       "      <td>0</td>\n",
       "      <td>...</td>\n",
       "      <td>0</td>\n",
       "      <td>0</td>\n",
       "      <td>0</td>\n",
       "      <td>0</td>\n",
       "      <td>2.949</td>\n",
       "      <td>1.591</td>\n",
       "      <td>0</td>\n",
       "      <td>7.253</td>\n",
       "      <td>0</td>\n",
       "      <td>0</td>\n",
       "    </tr>\n",
       "    <tr>\n",
       "      <th>1</th>\n",
       "      <td>4.170</td>\n",
       "      <td>2.1144</td>\n",
       "      <td>0</td>\n",
       "      <td>0</td>\n",
       "      <td>0</td>\n",
       "      <td>0</td>\n",
       "      <td>0</td>\n",
       "      <td>30.8</td>\n",
       "      <td>1</td>\n",
       "      <td>1</td>\n",
       "      <td>...</td>\n",
       "      <td>0</td>\n",
       "      <td>0</td>\n",
       "      <td>0</td>\n",
       "      <td>0</td>\n",
       "      <td>3.315</td>\n",
       "      <td>1.967</td>\n",
       "      <td>0</td>\n",
       "      <td>7.257</td>\n",
       "      <td>0</td>\n",
       "      <td>0</td>\n",
       "    </tr>\n",
       "    <tr>\n",
       "      <th>2</th>\n",
       "      <td>3.932</td>\n",
       "      <td>3.2512</td>\n",
       "      <td>0</td>\n",
       "      <td>0</td>\n",
       "      <td>0</td>\n",
       "      <td>0</td>\n",
       "      <td>0</td>\n",
       "      <td>26.7</td>\n",
       "      <td>2</td>\n",
       "      <td>4</td>\n",
       "      <td>...</td>\n",
       "      <td>0</td>\n",
       "      <td>0</td>\n",
       "      <td>0</td>\n",
       "      <td>1</td>\n",
       "      <td>3.076</td>\n",
       "      <td>2.417</td>\n",
       "      <td>0</td>\n",
       "      <td>7.601</td>\n",
       "      <td>0</td>\n",
       "      <td>0</td>\n",
       "    </tr>\n",
       "    <tr>\n",
       "      <th>3</th>\n",
       "      <td>3.000</td>\n",
       "      <td>2.7098</td>\n",
       "      <td>0</td>\n",
       "      <td>0</td>\n",
       "      <td>0</td>\n",
       "      <td>0</td>\n",
       "      <td>0</td>\n",
       "      <td>20.0</td>\n",
       "      <td>0</td>\n",
       "      <td>2</td>\n",
       "      <td>...</td>\n",
       "      <td>0</td>\n",
       "      <td>0</td>\n",
       "      <td>0</td>\n",
       "      <td>1</td>\n",
       "      <td>3.046</td>\n",
       "      <td>5.000</td>\n",
       "      <td>0</td>\n",
       "      <td>6.690</td>\n",
       "      <td>0</td>\n",
       "      <td>0</td>\n",
       "    </tr>\n",
       "    <tr>\n",
       "      <th>4</th>\n",
       "      <td>4.236</td>\n",
       "      <td>3.3944</td>\n",
       "      <td>0</td>\n",
       "      <td>0</td>\n",
       "      <td>0</td>\n",
       "      <td>0</td>\n",
       "      <td>0</td>\n",
       "      <td>29.4</td>\n",
       "      <td>2</td>\n",
       "      <td>4</td>\n",
       "      <td>...</td>\n",
       "      <td>0</td>\n",
       "      <td>0</td>\n",
       "      <td>0</td>\n",
       "      <td>0</td>\n",
       "      <td>3.351</td>\n",
       "      <td>2.405</td>\n",
       "      <td>0</td>\n",
       "      <td>8.003</td>\n",
       "      <td>0</td>\n",
       "      <td>0</td>\n",
       "    </tr>\n",
       "  </tbody>\n",
       "</table>\n",
       "<p>5 rows × 41 columns</p>\n",
       "</div>"
      ],
      "text/plain": [
       "   SpMax_L  J_Dz(e)  nHM  F01[N-N]  F04[C-N]  NssssC  nCb-    C%  nCp  nO  \\\n",
       "0    3.919   2.6909    0         0         0       0     0  31.4    2   0   \n",
       "1    4.170   2.1144    0         0         0       0     0  30.8    1   1   \n",
       "2    3.932   3.2512    0         0         0       0     0  26.7    2   4   \n",
       "3    3.000   2.7098    0         0         0       0     0  20.0    0   2   \n",
       "4    4.236   3.3944    0         0         0       0     0  29.4    2   4   \n",
       "\n",
       "   ...  nCrt  C-026  F02[C-N]  nHDon  SpMax_B(m)  Psi_i_A  nN  SM6_B(m)  \\\n",
       "0  ...     0      0         0      0       2.949    1.591   0     7.253   \n",
       "1  ...     0      0         0      0       3.315    1.967   0     7.257   \n",
       "2  ...     0      0         0      1       3.076    2.417   0     7.601   \n",
       "3  ...     0      0         0      1       3.046    5.000   0     6.690   \n",
       "4  ...     0      0         0      0       3.351    2.405   0     8.003   \n",
       "\n",
       "   nArCOOR  nX  \n",
       "0        0   0  \n",
       "1        0   0  \n",
       "2        0   0  \n",
       "3        0   0  \n",
       "4        0   0  \n",
       "\n",
       "[5 rows x 41 columns]"
      ]
     },
     "execution_count": 78,
     "metadata": {},
     "output_type": "execute_result"
    }
   ],
   "source": [
    "#assigning 'experimental_class' column data as target to variable y\n",
    "y = biodeg['experimental_class']\n",
    "\n",
    "#Assigning all columns accepts columns with string data type and 'experimental_class' column to x\n",
    "x = biodeg.drop(columns = 'experimental_class')\n",
    "\n",
    "#print x shape\n",
    "print(x.shape)\n",
    "x.head()"
   ]
  },
  {
   "cell_type": "markdown",
   "metadata": {},
   "source": [
    "## Feature Selection using Wrapper Method with forward selection technique\n",
    "\n",
    "#### For feature selection we will use RandomForestClassifier() function to estimate\n",
    "#### Only accuracy score used - for classifier\n",
    "#### For forward selection forward=true and floating=false\n",
    "#### K-fold Cross Validation is applied through the cv argument"
   ]
  },
  {
   "cell_type": "code",
   "execution_count": 79,
   "metadata": {},
   "outputs": [],
   "source": [
    "#SequentialFeatureSelector function\n",
    "sfs = SFS(RandomForestClassifier(),\n",
    "           k_features=(1,41),\n",
    "           forward=True,\n",
    "           floating=False, \n",
    "           verbose = 2,\n",
    "           scoring = 'accuracy',\n",
    "           n_jobs = -1,\n",
    "           cv = 4)"
   ]
  },
  {
   "cell_type": "code",
   "execution_count": 54,
   "metadata": {},
   "outputs": [
    {
     "name": "stderr",
     "output_type": "stream",
     "text": [
      "[Parallel(n_jobs=-1)]: Using backend LokyBackend with 4 concurrent workers.\n",
      "[Parallel(n_jobs=-1)]: Done  33 tasks      | elapsed:   14.1s\n",
      "[Parallel(n_jobs=-1)]: Done  41 out of  41 | elapsed:   17.7s finished\n",
      "\n",
      "[2021-07-04 19:34:24] Features: 1/41 -- score: 0.7213460652148865[Parallel(n_jobs=-1)]: Using backend LokyBackend with 4 concurrent workers.\n",
      "[Parallel(n_jobs=-1)]: Done  33 tasks      | elapsed:   17.9s\n",
      "[Parallel(n_jobs=-1)]: Done  40 out of  40 | elapsed:   20.6s finished\n",
      "\n",
      "[2021-07-04 19:34:45] Features: 2/41 -- score: 0.7933985770250029[Parallel(n_jobs=-1)]: Using backend LokyBackend with 4 concurrent workers.\n",
      "[Parallel(n_jobs=-1)]: Done  39 out of  39 | elapsed:   15.8s finished\n",
      "\n",
      "[2021-07-04 19:35:01] Features: 3/41 -- score: 0.8303267945615854[Parallel(n_jobs=-1)]: Using backend LokyBackend with 4 concurrent workers.\n",
      "[Parallel(n_jobs=-1)]: Done  38 out of  38 | elapsed:   17.3s finished\n",
      "\n",
      "[2021-07-04 19:35:18] Features: 4/41 -- score: 0.8492805910819219[Parallel(n_jobs=-1)]: Using backend LokyBackend with 4 concurrent workers.\n",
      "[Parallel(n_jobs=-1)]: Done  37 out of  37 | elapsed:   17.5s finished\n",
      "\n",
      "[2021-07-04 19:35:36] Features: 5/41 -- score: 0.8597260629104736[Parallel(n_jobs=-1)]: Using backend LokyBackend with 4 concurrent workers.\n",
      "[Parallel(n_jobs=-1)]: Done  36 out of  36 | elapsed:   15.6s finished\n",
      "\n",
      "[2021-07-04 19:35:52] Features: 6/41 -- score: 0.8616236029496487[Parallel(n_jobs=-1)]: Using backend LokyBackend with 4 concurrent workers.\n",
      "[Parallel(n_jobs=-1)]: Done  35 out of  35 | elapsed:   15.4s finished\n",
      "\n",
      "[2021-07-04 19:36:07] Features: 7/41 -- score: 0.8673090217767023[Parallel(n_jobs=-1)]: Using backend LokyBackend with 4 concurrent workers.\n",
      "[Parallel(n_jobs=-1)]: Done  34 out of  34 | elapsed:   14.0s finished\n",
      "\n",
      "[2021-07-04 19:36:21] Features: 8/41 -- score: 0.8682523908284365[Parallel(n_jobs=-1)]: Using backend LokyBackend with 4 concurrent workers.\n",
      "[Parallel(n_jobs=-1)]: Done  33 out of  33 | elapsed:   16.2s finished\n",
      "\n",
      "[2021-07-04 19:36:37] Features: 9/41 -- score: 0.8673054211314668[Parallel(n_jobs=-1)]: Using backend LokyBackend with 4 concurrent workers.\n",
      "[Parallel(n_jobs=-1)]: Done  32 out of  32 | elapsed:   14.2s finished\n",
      "\n",
      "[2021-07-04 19:36:52] Features: 10/41 -- score: 0.8692065618158774[Parallel(n_jobs=-1)]: Using backend LokyBackend with 4 concurrent workers.\n",
      "[Parallel(n_jobs=-1)]: Done  31 out of  31 | elapsed:   14.2s finished\n",
      "\n",
      "[2021-07-04 19:37:06] Features: 11/41 -- score: 0.8711005012098167[Parallel(n_jobs=-1)]: Using backend LokyBackend with 4 concurrent workers.\n",
      "[Parallel(n_jobs=-1)]: Done  30 out of  30 | elapsed:   13.9s finished\n",
      "\n",
      "[2021-07-04 19:37:20] Features: 12/41 -- score: 0.8710969005645811[Parallel(n_jobs=-1)]: Using backend LokyBackend with 4 concurrent workers.\n",
      "[Parallel(n_jobs=-1)]: Done  29 out of  29 | elapsed:   13.0s finished\n",
      "\n",
      "[2021-07-04 19:37:33] Features: 13/41 -- score: 0.8682487901832008[Parallel(n_jobs=-1)]: Using backend LokyBackend with 4 concurrent workers.\n",
      "[Parallel(n_jobs=-1)]: Done  28 out of  28 | elapsed:   12.8s finished\n",
      "\n",
      "[2021-07-04 19:37:46] Features: 14/41 -- score: 0.8672982198409954[Parallel(n_jobs=-1)]: Using backend LokyBackend with 4 concurrent workers.\n",
      "[Parallel(n_jobs=-1)]: Done  27 out of  27 | elapsed:   11.6s finished\n",
      "\n",
      "[2021-07-04 19:37:58] Features: 15/41 -- score: 0.8720474709067865[Parallel(n_jobs=-1)]: Using backend LokyBackend with 4 concurrent workers.\n",
      "[Parallel(n_jobs=-1)]: Done  26 out of  26 | elapsed:   12.5s finished\n",
      "\n",
      "[2021-07-04 19:38:11] Features: 16/41 -- score: 0.869210162461113[Parallel(n_jobs=-1)]: Using backend LokyBackend with 4 concurrent workers.\n",
      "[Parallel(n_jobs=-1)]: Done  25 out of  25 | elapsed:   12.1s finished\n",
      "\n",
      "[2021-07-04 19:38:23] Features: 17/41 -- score: 0.8720438702615508[Parallel(n_jobs=-1)]: Using backend LokyBackend with 4 concurrent workers.\n",
      "[Parallel(n_jobs=-1)]: Done  24 out of  24 | elapsed:   11.5s finished\n",
      "\n",
      "[2021-07-04 19:38:34] Features: 18/41 -- score: 0.8701463302223759[Parallel(n_jobs=-1)]: Using backend LokyBackend with 4 concurrent workers.\n",
      "[Parallel(n_jobs=-1)]: Done  23 out of  23 | elapsed:    9.2s finished\n",
      "\n",
      "[2021-07-04 19:38:44] Features: 19/41 -- score: 0.8720546721972577[Parallel(n_jobs=-1)]: Using backend LokyBackend with 4 concurrent workers.\n",
      "[Parallel(n_jobs=-1)]: Done  22 out of  22 | elapsed:   10.3s finished\n",
      "\n",
      "[2021-07-04 19:38:54] Features: 20/41 -- score: 0.8739342090102546[Parallel(n_jobs=-1)]: Using backend LokyBackend with 4 concurrent workers.\n",
      "[Parallel(n_jobs=-1)]: Done  21 out of  21 | elapsed:    9.5s finished\n",
      "\n",
      "[2021-07-04 19:39:04] Features: 21/41 -- score: 0.8758425509851365[Parallel(n_jobs=-1)]: Using backend LokyBackend with 4 concurrent workers.\n",
      "[Parallel(n_jobs=-1)]: Done  20 out of  20 | elapsed:    8.7s finished\n",
      "\n",
      "[2021-07-04 19:39:12] Features: 22/41 -- score: 0.8720474709067865[Parallel(n_jobs=-1)]: Using backend LokyBackend with 4 concurrent workers.\n",
      "[Parallel(n_jobs=-1)]: Done  19 out of  19 | elapsed:    8.6s finished\n",
      "\n",
      "[2021-07-04 19:39:21] Features: 23/41 -- score: 0.8720438702615508[Parallel(n_jobs=-1)]: Using backend LokyBackend with 4 concurrent workers.\n",
      "[Parallel(n_jobs=-1)]: Done  18 out of  18 | elapsed:    8.4s finished\n",
      "\n",
      "[2021-07-04 19:39:30] Features: 24/41 -- score: 0.8767751181011638[Parallel(n_jobs=-1)]: Using backend LokyBackend with 4 concurrent workers.\n",
      "[Parallel(n_jobs=-1)]: Done  17 out of  17 | elapsed:    8.0s finished\n",
      "\n",
      "[2021-07-04 19:39:38] Features: 25/41 -- score: 0.8748955812881668[Parallel(n_jobs=-1)]: Using backend LokyBackend with 4 concurrent workers.\n",
      "[Parallel(n_jobs=-1)]: Done  16 out of  16 | elapsed:    7.1s finished\n",
      "\n",
      "[2021-07-04 19:39:45] Features: 26/41 -- score: 0.877725688443369[Parallel(n_jobs=-1)]: Using backend LokyBackend with 4 concurrent workers.\n",
      "[Parallel(n_jobs=-1)]: Done  15 out of  15 | elapsed:    7.2s finished\n",
      "\n",
      "[2021-07-04 19:39:52] Features: 27/41 -- score: 0.8720366689710796[Parallel(n_jobs=-1)]: Using backend LokyBackend with 4 concurrent workers.\n",
      "[Parallel(n_jobs=-1)]: Done  14 out of  14 | elapsed:    7.2s finished\n",
      "\n",
      "[2021-07-04 19:40:00] Features: 28/41 -- score: 0.8692029611706418[Parallel(n_jobs=-1)]: Using backend LokyBackend with 4 concurrent workers.\n",
      "[Parallel(n_jobs=-1)]: Done  13 out of  13 | elapsed:    6.6s remaining:    0.0s\n",
      "[Parallel(n_jobs=-1)]: Done  13 out of  13 | elapsed:    6.6s finished\n",
      "\n",
      "[2021-07-04 19:40:06] Features: 29/41 -- score: 0.8748811787072244[Parallel(n_jobs=-1)]: Using backend LokyBackend with 4 concurrent workers.\n",
      "[Parallel(n_jobs=-1)]: Done  12 out of  12 | elapsed:    5.0s remaining:    0.0s\n",
      "[Parallel(n_jobs=-1)]: Done  12 out of  12 | elapsed:    5.0s finished\n",
      "\n",
      "[2021-07-04 19:40:11] Features: 30/41 -- score: 0.8691921592349349[Parallel(n_jobs=-1)]: Using backend LokyBackend with 4 concurrent workers.\n",
      "[Parallel(n_jobs=-1)]: Done  11 out of  11 | elapsed:    5.0s finished\n",
      "\n",
      "[2021-07-04 19:40:17] Features: 31/41 -- score: 0.8673090217767023[Parallel(n_jobs=-1)]: Using backend LokyBackend with 4 concurrent workers.\n",
      "[Parallel(n_jobs=-1)]: Done  10 out of  10 | elapsed:    4.8s finished\n",
      "\n",
      "[2021-07-04 19:40:21] Features: 32/41 -- score: 0.8692065618158774[Parallel(n_jobs=-1)]: Using backend LokyBackend with 4 concurrent workers.\n",
      "[Parallel(n_jobs=-1)]: Done   7 out of   9 | elapsed:    4.0s remaining:    1.1s\n",
      "[Parallel(n_jobs=-1)]: Done   9 out of   9 | elapsed:    5.0s finished\n",
      "\n",
      "[2021-07-04 19:40:27] Features: 33/41 -- score: 0.8692065618158774[Parallel(n_jobs=-1)]: Using backend LokyBackend with 4 concurrent workers.\n",
      "[Parallel(n_jobs=-1)]: Done   6 out of   8 | elapsed:    3.2s remaining:    1.0s\n",
      "[Parallel(n_jobs=-1)]: Done   8 out of   8 | elapsed:    3.2s finished\n",
      "\n",
      "[2021-07-04 19:40:30] Features: 34/41 -- score: 0.8682451895379651[Parallel(n_jobs=-1)]: Using backend LokyBackend with 4 concurrent workers.\n",
      "[Parallel(n_jobs=-1)]: Done   4 out of   7 | elapsed:    1.9s remaining:    1.4s\n",
      "[Parallel(n_jobs=-1)]: Done   7 out of   7 | elapsed:    3.3s finished\n",
      "\n",
      "[2021-07-04 19:40:33] Features: 35/41 -- score: 0.8625813745823252[Parallel(n_jobs=-1)]: Using backend LokyBackend with 4 concurrent workers.\n",
      "[Parallel(n_jobs=-1)]: Done   3 out of   6 | elapsed:    1.6s remaining:    1.6s\n",
      "[Parallel(n_jobs=-1)]: Done   6 out of   6 | elapsed:    3.0s finished\n",
      "\n",
      "[2021-07-04 19:40:36] Features: 36/41 -- score: 0.8606730326074432[Parallel(n_jobs=-1)]: Using backend LokyBackend with 4 concurrent workers.\n"
     ]
    },
    {
     "name": "stderr",
     "output_type": "stream",
     "text": [
      "[Parallel(n_jobs=-1)]: Done   5 out of   5 | elapsed:    2.9s finished\n",
      "\n",
      "[2021-07-04 19:40:39] Features: 37/41 -- score: 0.8568743518838576[Parallel(n_jobs=-1)]: Using backend LokyBackend with 4 concurrent workers.\n",
      "[Parallel(n_jobs=-1)]: Done   4 out of   4 | elapsed:    1.7s finished\n",
      "\n",
      "[2021-07-04 19:40:41] Features: 38/41 -- score: 0.8559381841225947[Parallel(n_jobs=-1)]: Using backend LokyBackend with 4 concurrent workers.\n",
      "[Parallel(n_jobs=-1)]: Done   3 out of   3 | elapsed:    1.4s finished\n",
      "\n",
      "[2021-07-04 19:40:43] Features: 39/41 -- score: 0.8578177209355916[Parallel(n_jobs=-1)]: Using backend LokyBackend with 4 concurrent workers.\n",
      "[Parallel(n_jobs=-1)]: Done   2 out of   2 | elapsed:    1.2s finished\n",
      "\n",
      "[2021-07-04 19:40:44] Features: 40/41 -- score: 0.8549876137803895[Parallel(n_jobs=-1)]: Using backend LokyBackend with 4 concurrent workers.\n",
      "[Parallel(n_jobs=-1)]: Done   1 out of   1 | elapsed:    1.1s finished\n",
      "\n",
      "[2021-07-04 19:40:45] Features: 41/41 -- score: 0.8464540845719553"
     ]
    },
    {
     "data": {
      "text/plain": [
       "SequentialFeatureSelector(cv=4, estimator=RandomForestClassifier(),\n",
       "                          k_features=(1, 41), n_jobs=-1, scoring='accuracy',\n",
       "                          verbose=2)"
      ]
     },
     "execution_count": 54,
     "metadata": {},
     "output_type": "execute_result"
    }
   ],
   "source": [
    "sfs.fit(x,y)"
   ]
  },
  {
   "cell_type": "markdown",
   "metadata": {},
   "source": [
    "#### Create a dataframe for the SFS results:"
   ]
  },
  {
   "cell_type": "code",
   "execution_count": 56,
   "metadata": {},
   "outputs": [
    {
     "data": {
      "text/html": [
       "<div>\n",
       "<style scoped>\n",
       "    .dataframe tbody tr th:only-of-type {\n",
       "        vertical-align: middle;\n",
       "    }\n",
       "\n",
       "    .dataframe tbody tr th {\n",
       "        vertical-align: top;\n",
       "    }\n",
       "\n",
       "    .dataframe thead th {\n",
       "        text-align: right;\n",
       "    }\n",
       "</style>\n",
       "<table border=\"1\" class=\"dataframe\">\n",
       "  <thead>\n",
       "    <tr style=\"text-align: right;\">\n",
       "      <th></th>\n",
       "      <th>feature_idx</th>\n",
       "      <th>cv_scores</th>\n",
       "      <th>avg_score</th>\n",
       "      <th>feature_names</th>\n",
       "      <th>ci_bound</th>\n",
       "      <th>std_dev</th>\n",
       "      <th>std_err</th>\n",
       "    </tr>\n",
       "  </thead>\n",
       "  <tbody>\n",
       "    <tr>\n",
       "      <th>1</th>\n",
       "      <td>(35,)</td>\n",
       "      <td>[0.7575757575757576, 0.6704545454545454, 0.715...</td>\n",
       "      <td>0.721346</td>\n",
       "      <td>(SpMax_B(m),)</td>\n",
       "      <td>0.0527772</td>\n",
       "      <td>0.0329244</td>\n",
       "      <td>0.0190089</td>\n",
       "    </tr>\n",
       "    <tr>\n",
       "      <th>2</th>\n",
       "      <td>(0, 35)</td>\n",
       "      <td>[0.7954545454545454, 0.75, 0.7992424242424242,...</td>\n",
       "      <td>0.793399</td>\n",
       "      <td>(SpMax_L, SpMax_B(m))</td>\n",
       "      <td>0.0452113</td>\n",
       "      <td>0.0282045</td>\n",
       "      <td>0.0162839</td>\n",
       "    </tr>\n",
       "    <tr>\n",
       "      <th>3</th>\n",
       "      <td>(0, 15, 35)</td>\n",
       "      <td>[0.8333333333333334, 0.8257575757575758, 0.837...</td>\n",
       "      <td>0.830327</td>\n",
       "      <td>(SpMax_L, F03[C-O], SpMax_B(m))</td>\n",
       "      <td>0.00815208</td>\n",
       "      <td>0.00508557</td>\n",
       "      <td>0.00293616</td>\n",
       "    </tr>\n",
       "    <tr>\n",
       "      <th>4</th>\n",
       "      <td>(0, 13, 15, 35)</td>\n",
       "      <td>[0.8787878787878788, 0.8295454545454546, 0.848...</td>\n",
       "      <td>0.849281</td>\n",
       "      <td>(SpMax_L, LOC, F03[C-O], SpMax_B(m))</td>\n",
       "      <td>0.0293543</td>\n",
       "      <td>0.0183123</td>\n",
       "      <td>0.0105726</td>\n",
       "    </tr>\n",
       "    <tr>\n",
       "      <th>5</th>\n",
       "      <td>(0, 13, 15, 35, 37)</td>\n",
       "      <td>[0.875, 0.8560606060606061, 0.8371212121212122...</td>\n",
       "      <td>0.859726</td>\n",
       "      <td>(SpMax_L, LOC, F03[C-O], SpMax_B(m), nN)</td>\n",
       "      <td>0.0237575</td>\n",
       "      <td>0.0148208</td>\n",
       "      <td>0.00855681</td>\n",
       "    </tr>\n",
       "    <tr>\n",
       "      <th>6</th>\n",
       "      <td>(0, 13, 15, 35, 37, 40)</td>\n",
       "      <td>[0.8598484848484849, 0.8636363636363636, 0.848...</td>\n",
       "      <td>0.861624</td>\n",
       "      <td>(SpMax_L, LOC, F03[C-O], SpMax_B(m), nN, nX)</td>\n",
       "      <td>0.0149144</td>\n",
       "      <td>0.00930414</td>\n",
       "      <td>0.00537175</td>\n",
       "    </tr>\n",
       "    <tr>\n",
       "      <th>7</th>\n",
       "      <td>(0, 13, 15, 22, 35, 37, 40)</td>\n",
       "      <td>[0.875, 0.8598484848484849, 0.8560606060606061...</td>\n",
       "      <td>0.867309</td>\n",
       "      <td>(SpMax_L, LOC, F03[C-O], nCIR, SpMax_B(m), nN,...</td>\n",
       "      <td>0.0152648</td>\n",
       "      <td>0.00952278</td>\n",
       "      <td>0.00549798</td>\n",
       "    </tr>\n",
       "    <tr>\n",
       "      <th>8</th>\n",
       "      <td>(0, 13, 15, 20, 22, 35, 37, 40)</td>\n",
       "      <td>[0.875, 0.875, 0.8484848484848485, 0.874524714...</td>\n",
       "      <td>0.868252</td>\n",
       "      <td>(SpMax_L, LOC, F03[C-O], nCRX3, nCIR, SpMax_B(...</td>\n",
       "      <td>0.0182971</td>\n",
       "      <td>0.0114144</td>\n",
       "      <td>0.00659013</td>\n",
       "    </tr>\n",
       "    <tr>\n",
       "      <th>9</th>\n",
       "      <td>(0, 13, 15, 20, 22, 28, 35, 37, 40)</td>\n",
       "      <td>[0.8787878787878788, 0.8712121212121212, 0.844...</td>\n",
       "      <td>0.867305</td>\n",
       "      <td>(SpMax_L, LOC, F03[C-O], nCRX3, nCIR, B04[C-Br...</td>\n",
       "      <td>0.0213619</td>\n",
       "      <td>0.0133264</td>\n",
       "      <td>0.00769399</td>\n",
       "    </tr>\n",
       "    <tr>\n",
       "      <th>10</th>\n",
       "      <td>(0, 13, 15, 20, 22, 25, 28, 35, 37, 40)</td>\n",
       "      <td>[0.875, 0.8674242424242424, 0.8522727272727273...</td>\n",
       "      <td>0.869207</td>\n",
       "      <td>(SpMax_L, LOC, F03[C-O], nCRX3, nCIR, N-073, B...</td>\n",
       "      <td>0.0177507</td>\n",
       "      <td>0.0110735</td>\n",
       "      <td>0.0063933</td>\n",
       "    </tr>\n",
       "    <tr>\n",
       "      <th>11</th>\n",
       "      <td>(0, 13, 15, 20, 22, 25, 28, 31, 35, 37, 40)</td>\n",
       "      <td>[0.8712121212121212, 0.875, 0.8560606060606061...</td>\n",
       "      <td>0.871101</td>\n",
       "      <td>(SpMax_L, LOC, F03[C-O], nCRX3, nCIR, N-073, B...</td>\n",
       "      <td>0.0152715</td>\n",
       "      <td>0.00952695</td>\n",
       "      <td>0.00550039</td>\n",
       "    </tr>\n",
       "    <tr>\n",
       "      <th>12</th>\n",
       "      <td>(0, 5, 13, 15, 20, 22, 25, 28, 31, 35, 37, 40)</td>\n",
       "      <td>[0.8787878787878788, 0.8674242424242424, 0.859...</td>\n",
       "      <td>0.871097</td>\n",
       "      <td>(SpMax_L, NssssC, LOC, F03[C-O], nCRX3, nCIR, ...</td>\n",
       "      <td>0.0127091</td>\n",
       "      <td>0.00792844</td>\n",
       "      <td>0.00457749</td>\n",
       "    </tr>\n",
       "    <tr>\n",
       "      <th>13</th>\n",
       "      <td>(0, 5, 13, 15, 20, 22, 25, 28, 30, 31, 35, 37,...</td>\n",
       "      <td>[0.8636363636363636, 0.8825757575757576, 0.856...</td>\n",
       "      <td>0.868249</td>\n",
       "      <td>(SpMax_L, NssssC, LOC, F03[C-O], nCRX3, nCIR, ...</td>\n",
       "      <td>0.0156487</td>\n",
       "      <td>0.00976226</td>\n",
       "      <td>0.00563625</td>\n",
       "    </tr>\n",
       "    <tr>\n",
       "      <th>14</th>\n",
       "      <td>(0, 2, 5, 13, 15, 20, 22, 25, 28, 30, 31, 35, ...</td>\n",
       "      <td>[0.8674242424242424, 0.8787878787878788, 0.856...</td>\n",
       "      <td>0.867298</td>\n",
       "      <td>(SpMax_L, nHM, NssssC, LOC, F03[C-O], nCRX3, n...</td>\n",
       "      <td>0.0128852</td>\n",
       "      <td>0.00803827</td>\n",
       "      <td>0.0046409</td>\n",
       "    </tr>\n",
       "    <tr>\n",
       "      <th>15</th>\n",
       "      <td>(0, 2, 5, 10, 13, 15, 20, 22, 25, 28, 30, 31, ...</td>\n",
       "      <td>[0.8560606060606061, 0.8901515151515151, 0.859...</td>\n",
       "      <td>0.872047</td>\n",
       "      <td>(SpMax_L, nHM, NssssC, F03[C-N], LOC, F03[C-O]...</td>\n",
       "      <td>0.0231434</td>\n",
       "      <td>0.0144377</td>\n",
       "      <td>0.00833564</td>\n",
       "    </tr>\n",
       "    <tr>\n",
       "      <th>16</th>\n",
       "      <td>(0, 2, 5, 10, 13, 15, 20, 22, 24, 25, 28, 30, ...</td>\n",
       "      <td>[0.8598484848484849, 0.8863636363636364, 0.844...</td>\n",
       "      <td>0.86921</td>\n",
       "      <td>(SpMax_L, nHM, NssssC, F03[C-N], LOC, F03[C-O]...</td>\n",
       "      <td>0.028477</td>\n",
       "      <td>0.017765</td>\n",
       "      <td>0.0102566</td>\n",
       "    </tr>\n",
       "    <tr>\n",
       "      <th>17</th>\n",
       "      <td>(0, 2, 3, 5, 10, 13, 15, 20, 22, 24, 25, 28, 3...</td>\n",
       "      <td>[0.8674242424242424, 0.8901515151515151, 0.852...</td>\n",
       "      <td>0.872044</td>\n",
       "      <td>(SpMax_L, nHM, F01[N-N], NssssC, F03[C-N], LOC...</td>\n",
       "      <td>0.0223787</td>\n",
       "      <td>0.0139607</td>\n",
       "      <td>0.00806021</td>\n",
       "    </tr>\n",
       "    <tr>\n",
       "      <th>18</th>\n",
       "      <td>(0, 2, 3, 5, 10, 13, 15, 20, 22, 23, 24, 25, 2...</td>\n",
       "      <td>[0.8712121212121212, 0.8863636363636364, 0.848...</td>\n",
       "      <td>0.870146</td>\n",
       "      <td>(SpMax_L, nHM, F01[N-N], NssssC, F03[C-N], LOC...</td>\n",
       "      <td>0.0219867</td>\n",
       "      <td>0.0137161</td>\n",
       "      <td>0.007919</td>\n",
       "    </tr>\n",
       "    <tr>\n",
       "      <th>19</th>\n",
       "      <td>(0, 2, 3, 5, 10, 13, 15, 20, 22, 23, 24, 25, 2...</td>\n",
       "      <td>[0.8560606060606061, 0.8901515151515151, 0.852...</td>\n",
       "      <td>0.872055</td>\n",
       "      <td>(SpMax_L, nHM, F01[N-N], NssssC, F03[C-N], LOC...</td>\n",
       "      <td>0.0287554</td>\n",
       "      <td>0.0179387</td>\n",
       "      <td>0.0103569</td>\n",
       "    </tr>\n",
       "    <tr>\n",
       "      <th>20</th>\n",
       "      <td>(0, 2, 3, 5, 8, 10, 13, 15, 20, 22, 23, 24, 25...</td>\n",
       "      <td>[0.8787878787878788, 0.8863636363636364, 0.856...</td>\n",
       "      <td>0.873934</td>\n",
       "      <td>(SpMax_L, nHM, F01[N-N], NssssC, nCp, F03[C-N]...</td>\n",
       "      <td>0.0178835</td>\n",
       "      <td>0.0111564</td>\n",
       "      <td>0.00644116</td>\n",
       "    </tr>\n",
       "    <tr>\n",
       "      <th>21</th>\n",
       "      <td>(0, 2, 3, 5, 8, 10, 13, 15, 20, 22, 23, 24, 25...</td>\n",
       "      <td>[0.8825757575757576, 0.8825757575757576, 0.848...</td>\n",
       "      <td>0.875843</td>\n",
       "      <td>(SpMax_L, nHM, F01[N-N], NssssC, nCp, F03[C-N]...</td>\n",
       "      <td>0.0257487</td>\n",
       "      <td>0.016063</td>\n",
       "      <td>0.009274</td>\n",
       "    </tr>\n",
       "    <tr>\n",
       "      <th>22</th>\n",
       "      <td>(0, 2, 3, 5, 7, 8, 10, 13, 15, 20, 22, 23, 24,...</td>\n",
       "      <td>[0.8863636363636364, 0.875, 0.8446969696969697...</td>\n",
       "      <td>0.872047</td>\n",
       "      <td>(SpMax_L, nHM, F01[N-N], NssssC, C%, nCp, F03[...</td>\n",
       "      <td>0.026136</td>\n",
       "      <td>0.0163046</td>\n",
       "      <td>0.00941348</td>\n",
       "    </tr>\n",
       "    <tr>\n",
       "      <th>23</th>\n",
       "      <td>(0, 2, 3, 5, 7, 8, 10, 13, 15, 20, 22, 23, 24,...</td>\n",
       "      <td>[0.8901515151515151, 0.8825757575757576, 0.837...</td>\n",
       "      <td>0.872044</td>\n",
       "      <td>(SpMax_L, nHM, F01[N-N], NssssC, C%, nCp, F03[...</td>\n",
       "      <td>0.0330257</td>\n",
       "      <td>0.0206027</td>\n",
       "      <td>0.0118949</td>\n",
       "    </tr>\n",
       "    <tr>\n",
       "      <th>24</th>\n",
       "      <td>(0, 2, 3, 5, 7, 8, 10, 13, 15, 17, 20, 22, 23,...</td>\n",
       "      <td>[0.8939393939393939, 0.8863636363636364, 0.852...</td>\n",
       "      <td>0.876775</td>\n",
       "      <td>(SpMax_L, nHM, F01[N-N], NssssC, C%, nCp, F03[...</td>\n",
       "      <td>0.0252436</td>\n",
       "      <td>0.0157479</td>\n",
       "      <td>0.00909205</td>\n",
       "    </tr>\n",
       "    <tr>\n",
       "      <th>25</th>\n",
       "      <td>(0, 2, 3, 5, 7, 8, 10, 13, 15, 16, 17, 20, 22,...</td>\n",
       "      <td>[0.8863636363636364, 0.8901515151515151, 0.833...</td>\n",
       "      <td>0.874896</td>\n",
       "      <td>(SpMax_L, nHM, F01[N-N], NssssC, C%, nCp, F03[...</td>\n",
       "      <td>0.0385371</td>\n",
       "      <td>0.0240409</td>\n",
       "      <td>0.01388</td>\n",
       "    </tr>\n",
       "    <tr>\n",
       "      <th>26</th>\n",
       "      <td>(0, 1, 2, 3, 5, 7, 8, 10, 13, 15, 16, 17, 20, ...</td>\n",
       "      <td>[0.8939393939393939, 0.8825757575757576, 0.856...</td>\n",
       "      <td>0.877726</td>\n",
       "      <td>(SpMax_L, J_Dz(e), nHM, F01[N-N], NssssC, C%, ...</td>\n",
       "      <td>0.0220395</td>\n",
       "      <td>0.013749</td>\n",
       "      <td>0.00793801</td>\n",
       "    </tr>\n",
       "    <tr>\n",
       "      <th>27</th>\n",
       "      <td>(0, 1, 2, 3, 5, 7, 8, 10, 13, 15, 16, 17, 20, ...</td>\n",
       "      <td>[0.9053030303030303, 0.8674242424242424, 0.844...</td>\n",
       "      <td>0.872037</td>\n",
       "      <td>(SpMax_L, J_Dz(e), nHM, F01[N-N], NssssC, C%, ...</td>\n",
       "      <td>0.0347251</td>\n",
       "      <td>0.0216628</td>\n",
       "      <td>0.012507</td>\n",
       "    </tr>\n",
       "    <tr>\n",
       "      <th>28</th>\n",
       "      <td>(0, 1, 2, 3, 5, 7, 8, 9, 10, 13, 15, 16, 17, 2...</td>\n",
       "      <td>[0.8939393939393939, 0.8674242424242424, 0.837...</td>\n",
       "      <td>0.869203</td>\n",
       "      <td>(SpMax_L, J_Dz(e), nHM, F01[N-N], NssssC, C%, ...</td>\n",
       "      <td>0.0333129</td>\n",
       "      <td>0.0207819</td>\n",
       "      <td>0.0119984</td>\n",
       "    </tr>\n",
       "    <tr>\n",
       "      <th>29</th>\n",
       "      <td>(0, 1, 2, 3, 5, 7, 8, 9, 10, 13, 15, 16, 17, 1...</td>\n",
       "      <td>[0.9053030303030303, 0.8636363636363636, 0.856...</td>\n",
       "      <td>0.874881</td>\n",
       "      <td>(SpMax_L, J_Dz(e), nHM, F01[N-N], NssssC, C%, ...</td>\n",
       "      <td>0.0300562</td>\n",
       "      <td>0.0187502</td>\n",
       "      <td>0.0108254</td>\n",
       "    </tr>\n",
       "    <tr>\n",
       "      <th>30</th>\n",
       "      <td>(0, 1, 2, 3, 4, 5, 7, 8, 9, 10, 13, 15, 16, 17...</td>\n",
       "      <td>[0.8901515151515151, 0.8674242424242424, 0.852...</td>\n",
       "      <td>0.869192</td>\n",
       "      <td>(SpMax_L, J_Dz(e), nHM, F01[N-N], F04[C-N], Ns...</td>\n",
       "      <td>0.0217121</td>\n",
       "      <td>0.0135448</td>\n",
       "      <td>0.00782011</td>\n",
       "    </tr>\n",
       "    <tr>\n",
       "      <th>31</th>\n",
       "      <td>(0, 1, 2, 3, 4, 5, 7, 8, 9, 10, 13, 15, 16, 17...</td>\n",
       "      <td>[0.8977272727272727, 0.8674242424242424, 0.825...</td>\n",
       "      <td>0.867309</td>\n",
       "      <td>(SpMax_L, J_Dz(e), nHM, F01[N-N], F04[C-N], Ns...</td>\n",
       "      <td>0.0422075</td>\n",
       "      <td>0.0263306</td>\n",
       "      <td>0.015202</td>\n",
       "    </tr>\n",
       "    <tr>\n",
       "      <th>32</th>\n",
       "      <td>(0, 1, 2, 3, 4, 5, 7, 8, 9, 10, 13, 15, 16, 17...</td>\n",
       "      <td>[0.8977272727272727, 0.8522727272727273, 0.844...</td>\n",
       "      <td>0.869207</td>\n",
       "      <td>(SpMax_L, J_Dz(e), nHM, F01[N-N], F04[C-N], Ns...</td>\n",
       "      <td>0.0346398</td>\n",
       "      <td>0.0216096</td>\n",
       "      <td>0.0124763</td>\n",
       "    </tr>\n",
       "    <tr>\n",
       "      <th>33</th>\n",
       "      <td>(0, 1, 2, 3, 4, 5, 6, 7, 8, 9, 10, 13, 15, 16,...</td>\n",
       "      <td>[0.8977272727272727, 0.8787878787878788, 0.818...</td>\n",
       "      <td>0.869207</td>\n",
       "      <td>(SpMax_L, J_Dz(e), nHM, F01[N-N], F04[C-N], Ns...</td>\n",
       "      <td>0.0485928</td>\n",
       "      <td>0.030314</td>\n",
       "      <td>0.0175018</td>\n",
       "    </tr>\n",
       "    <tr>\n",
       "      <th>34</th>\n",
       "      <td>(0, 1, 2, 3, 4, 5, 6, 7, 8, 9, 10, 13, 15, 16,...</td>\n",
       "      <td>[0.8863636363636364, 0.8712121212121212, 0.848...</td>\n",
       "      <td>0.868245</td>\n",
       "      <td>(SpMax_L, J_Dz(e), nHM, F01[N-N], F04[C-N], Ns...</td>\n",
       "      <td>0.0216448</td>\n",
       "      <td>0.0135028</td>\n",
       "      <td>0.00779587</td>\n",
       "    </tr>\n",
       "    <tr>\n",
       "      <th>35</th>\n",
       "      <td>(0, 1, 2, 3, 4, 5, 6, 7, 8, 9, 10, 13, 15, 16,...</td>\n",
       "      <td>[0.8863636363636364, 0.8598484848484849, 0.818...</td>\n",
       "      <td>0.862581</td>\n",
       "      <td>(SpMax_L, J_Dz(e), nHM, F01[N-N], F04[C-N], Ns...</td>\n",
       "      <td>0.0445503</td>\n",
       "      <td>0.0277922</td>\n",
       "      <td>0.0160458</td>\n",
       "    </tr>\n",
       "    <tr>\n",
       "      <th>36</th>\n",
       "      <td>(0, 1, 2, 3, 4, 5, 6, 7, 8, 9, 10, 12, 13, 15,...</td>\n",
       "      <td>[0.8901515151515151, 0.8560606060606061, 0.825...</td>\n",
       "      <td>0.860673</td>\n",
       "      <td>(SpMax_L, J_Dz(e), nHM, F01[N-N], F04[C-N], Ns...</td>\n",
       "      <td>0.0376814</td>\n",
       "      <td>0.0235071</td>\n",
       "      <td>0.0135718</td>\n",
       "    </tr>\n",
       "    <tr>\n",
       "      <th>37</th>\n",
       "      <td>(0, 1, 2, 3, 4, 5, 6, 7, 8, 9, 10, 12, 13, 15,...</td>\n",
       "      <td>[0.8939393939393939, 0.8598484848484849, 0.814...</td>\n",
       "      <td>0.856874</td>\n",
       "      <td>(SpMax_L, J_Dz(e), nHM, F01[N-N], F04[C-N], Ns...</td>\n",
       "      <td>0.045291</td>\n",
       "      <td>0.0282542</td>\n",
       "      <td>0.0163126</td>\n",
       "    </tr>\n",
       "    <tr>\n",
       "      <th>38</th>\n",
       "      <td>(0, 1, 2, 3, 4, 5, 6, 7, 8, 9, 10, 12, 13, 15,...</td>\n",
       "      <td>[0.8901515151515151, 0.8560606060606061, 0.806...</td>\n",
       "      <td>0.855938</td>\n",
       "      <td>(SpMax_L, J_Dz(e), nHM, F01[N-N], F04[C-N], Ns...</td>\n",
       "      <td>0.0494197</td>\n",
       "      <td>0.0308298</td>\n",
       "      <td>0.0177996</td>\n",
       "    </tr>\n",
       "    <tr>\n",
       "      <th>39</th>\n",
       "      <td>(0, 1, 2, 3, 4, 5, 6, 7, 8, 9, 10, 12, 13, 14,...</td>\n",
       "      <td>[0.8939393939393939, 0.8409090909090909, 0.840...</td>\n",
       "      <td>0.857818</td>\n",
       "      <td>(SpMax_L, J_Dz(e), nHM, F01[N-N], F04[C-N], Ns...</td>\n",
       "      <td>0.0347693</td>\n",
       "      <td>0.0216904</td>\n",
       "      <td>0.0125229</td>\n",
       "    </tr>\n",
       "    <tr>\n",
       "      <th>40</th>\n",
       "      <td>(0, 1, 2, 3, 4, 5, 6, 7, 8, 9, 10, 12, 13, 14,...</td>\n",
       "      <td>[0.8787878787878788, 0.8409090909090909, 0.833...</td>\n",
       "      <td>0.854988</td>\n",
       "      <td>(SpMax_L, J_Dz(e), nHM, F01[N-N], F04[C-N], Ns...</td>\n",
       "      <td>0.0297303</td>\n",
       "      <td>0.0185469</td>\n",
       "      <td>0.0107081</td>\n",
       "    </tr>\n",
       "    <tr>\n",
       "      <th>41</th>\n",
       "      <td>(0, 1, 2, 3, 4, 5, 6, 7, 8, 9, 10, 11, 12, 13,...</td>\n",
       "      <td>[0.8787878787878788, 0.8446969696969697, 0.806...</td>\n",
       "      <td>0.846454</td>\n",
       "      <td>(SpMax_L, J_Dz(e), nHM, F01[N-N], F04[C-N], Ns...</td>\n",
       "      <td>0.0416593</td>\n",
       "      <td>0.0259886</td>\n",
       "      <td>0.0150045</td>\n",
       "    </tr>\n",
       "  </tbody>\n",
       "</table>\n",
       "</div>"
      ],
      "text/plain": [
       "                                          feature_idx  \\\n",
       "1                                               (35,)   \n",
       "2                                             (0, 35)   \n",
       "3                                         (0, 15, 35)   \n",
       "4                                     (0, 13, 15, 35)   \n",
       "5                                 (0, 13, 15, 35, 37)   \n",
       "6                             (0, 13, 15, 35, 37, 40)   \n",
       "7                         (0, 13, 15, 22, 35, 37, 40)   \n",
       "8                     (0, 13, 15, 20, 22, 35, 37, 40)   \n",
       "9                 (0, 13, 15, 20, 22, 28, 35, 37, 40)   \n",
       "10            (0, 13, 15, 20, 22, 25, 28, 35, 37, 40)   \n",
       "11        (0, 13, 15, 20, 22, 25, 28, 31, 35, 37, 40)   \n",
       "12     (0, 5, 13, 15, 20, 22, 25, 28, 31, 35, 37, 40)   \n",
       "13  (0, 5, 13, 15, 20, 22, 25, 28, 30, 31, 35, 37,...   \n",
       "14  (0, 2, 5, 13, 15, 20, 22, 25, 28, 30, 31, 35, ...   \n",
       "15  (0, 2, 5, 10, 13, 15, 20, 22, 25, 28, 30, 31, ...   \n",
       "16  (0, 2, 5, 10, 13, 15, 20, 22, 24, 25, 28, 30, ...   \n",
       "17  (0, 2, 3, 5, 10, 13, 15, 20, 22, 24, 25, 28, 3...   \n",
       "18  (0, 2, 3, 5, 10, 13, 15, 20, 22, 23, 24, 25, 2...   \n",
       "19  (0, 2, 3, 5, 10, 13, 15, 20, 22, 23, 24, 25, 2...   \n",
       "20  (0, 2, 3, 5, 8, 10, 13, 15, 20, 22, 23, 24, 25...   \n",
       "21  (0, 2, 3, 5, 8, 10, 13, 15, 20, 22, 23, 24, 25...   \n",
       "22  (0, 2, 3, 5, 7, 8, 10, 13, 15, 20, 22, 23, 24,...   \n",
       "23  (0, 2, 3, 5, 7, 8, 10, 13, 15, 20, 22, 23, 24,...   \n",
       "24  (0, 2, 3, 5, 7, 8, 10, 13, 15, 17, 20, 22, 23,...   \n",
       "25  (0, 2, 3, 5, 7, 8, 10, 13, 15, 16, 17, 20, 22,...   \n",
       "26  (0, 1, 2, 3, 5, 7, 8, 10, 13, 15, 16, 17, 20, ...   \n",
       "27  (0, 1, 2, 3, 5, 7, 8, 10, 13, 15, 16, 17, 20, ...   \n",
       "28  (0, 1, 2, 3, 5, 7, 8, 9, 10, 13, 15, 16, 17, 2...   \n",
       "29  (0, 1, 2, 3, 5, 7, 8, 9, 10, 13, 15, 16, 17, 1...   \n",
       "30  (0, 1, 2, 3, 4, 5, 7, 8, 9, 10, 13, 15, 16, 17...   \n",
       "31  (0, 1, 2, 3, 4, 5, 7, 8, 9, 10, 13, 15, 16, 17...   \n",
       "32  (0, 1, 2, 3, 4, 5, 7, 8, 9, 10, 13, 15, 16, 17...   \n",
       "33  (0, 1, 2, 3, 4, 5, 6, 7, 8, 9, 10, 13, 15, 16,...   \n",
       "34  (0, 1, 2, 3, 4, 5, 6, 7, 8, 9, 10, 13, 15, 16,...   \n",
       "35  (0, 1, 2, 3, 4, 5, 6, 7, 8, 9, 10, 13, 15, 16,...   \n",
       "36  (0, 1, 2, 3, 4, 5, 6, 7, 8, 9, 10, 12, 13, 15,...   \n",
       "37  (0, 1, 2, 3, 4, 5, 6, 7, 8, 9, 10, 12, 13, 15,...   \n",
       "38  (0, 1, 2, 3, 4, 5, 6, 7, 8, 9, 10, 12, 13, 15,...   \n",
       "39  (0, 1, 2, 3, 4, 5, 6, 7, 8, 9, 10, 12, 13, 14,...   \n",
       "40  (0, 1, 2, 3, 4, 5, 6, 7, 8, 9, 10, 12, 13, 14,...   \n",
       "41  (0, 1, 2, 3, 4, 5, 6, 7, 8, 9, 10, 11, 12, 13,...   \n",
       "\n",
       "                                            cv_scores avg_score  \\\n",
       "1   [0.7575757575757576, 0.6704545454545454, 0.715...  0.721346   \n",
       "2   [0.7954545454545454, 0.75, 0.7992424242424242,...  0.793399   \n",
       "3   [0.8333333333333334, 0.8257575757575758, 0.837...  0.830327   \n",
       "4   [0.8787878787878788, 0.8295454545454546, 0.848...  0.849281   \n",
       "5   [0.875, 0.8560606060606061, 0.8371212121212122...  0.859726   \n",
       "6   [0.8598484848484849, 0.8636363636363636, 0.848...  0.861624   \n",
       "7   [0.875, 0.8598484848484849, 0.8560606060606061...  0.867309   \n",
       "8   [0.875, 0.875, 0.8484848484848485, 0.874524714...  0.868252   \n",
       "9   [0.8787878787878788, 0.8712121212121212, 0.844...  0.867305   \n",
       "10  [0.875, 0.8674242424242424, 0.8522727272727273...  0.869207   \n",
       "11  [0.8712121212121212, 0.875, 0.8560606060606061...  0.871101   \n",
       "12  [0.8787878787878788, 0.8674242424242424, 0.859...  0.871097   \n",
       "13  [0.8636363636363636, 0.8825757575757576, 0.856...  0.868249   \n",
       "14  [0.8674242424242424, 0.8787878787878788, 0.856...  0.867298   \n",
       "15  [0.8560606060606061, 0.8901515151515151, 0.859...  0.872047   \n",
       "16  [0.8598484848484849, 0.8863636363636364, 0.844...   0.86921   \n",
       "17  [0.8674242424242424, 0.8901515151515151, 0.852...  0.872044   \n",
       "18  [0.8712121212121212, 0.8863636363636364, 0.848...  0.870146   \n",
       "19  [0.8560606060606061, 0.8901515151515151, 0.852...  0.872055   \n",
       "20  [0.8787878787878788, 0.8863636363636364, 0.856...  0.873934   \n",
       "21  [0.8825757575757576, 0.8825757575757576, 0.848...  0.875843   \n",
       "22  [0.8863636363636364, 0.875, 0.8446969696969697...  0.872047   \n",
       "23  [0.8901515151515151, 0.8825757575757576, 0.837...  0.872044   \n",
       "24  [0.8939393939393939, 0.8863636363636364, 0.852...  0.876775   \n",
       "25  [0.8863636363636364, 0.8901515151515151, 0.833...  0.874896   \n",
       "26  [0.8939393939393939, 0.8825757575757576, 0.856...  0.877726   \n",
       "27  [0.9053030303030303, 0.8674242424242424, 0.844...  0.872037   \n",
       "28  [0.8939393939393939, 0.8674242424242424, 0.837...  0.869203   \n",
       "29  [0.9053030303030303, 0.8636363636363636, 0.856...  0.874881   \n",
       "30  [0.8901515151515151, 0.8674242424242424, 0.852...  0.869192   \n",
       "31  [0.8977272727272727, 0.8674242424242424, 0.825...  0.867309   \n",
       "32  [0.8977272727272727, 0.8522727272727273, 0.844...  0.869207   \n",
       "33  [0.8977272727272727, 0.8787878787878788, 0.818...  0.869207   \n",
       "34  [0.8863636363636364, 0.8712121212121212, 0.848...  0.868245   \n",
       "35  [0.8863636363636364, 0.8598484848484849, 0.818...  0.862581   \n",
       "36  [0.8901515151515151, 0.8560606060606061, 0.825...  0.860673   \n",
       "37  [0.8939393939393939, 0.8598484848484849, 0.814...  0.856874   \n",
       "38  [0.8901515151515151, 0.8560606060606061, 0.806...  0.855938   \n",
       "39  [0.8939393939393939, 0.8409090909090909, 0.840...  0.857818   \n",
       "40  [0.8787878787878788, 0.8409090909090909, 0.833...  0.854988   \n",
       "41  [0.8787878787878788, 0.8446969696969697, 0.806...  0.846454   \n",
       "\n",
       "                                        feature_names    ci_bound     std_dev  \\\n",
       "1                                       (SpMax_B(m),)   0.0527772   0.0329244   \n",
       "2                               (SpMax_L, SpMax_B(m))   0.0452113   0.0282045   \n",
       "3                     (SpMax_L, F03[C-O], SpMax_B(m))  0.00815208  0.00508557   \n",
       "4                (SpMax_L, LOC, F03[C-O], SpMax_B(m))   0.0293543   0.0183123   \n",
       "5            (SpMax_L, LOC, F03[C-O], SpMax_B(m), nN)   0.0237575   0.0148208   \n",
       "6        (SpMax_L, LOC, F03[C-O], SpMax_B(m), nN, nX)   0.0149144  0.00930414   \n",
       "7   (SpMax_L, LOC, F03[C-O], nCIR, SpMax_B(m), nN,...   0.0152648  0.00952278   \n",
       "8   (SpMax_L, LOC, F03[C-O], nCRX3, nCIR, SpMax_B(...   0.0182971   0.0114144   \n",
       "9   (SpMax_L, LOC, F03[C-O], nCRX3, nCIR, B04[C-Br...   0.0213619   0.0133264   \n",
       "10  (SpMax_L, LOC, F03[C-O], nCRX3, nCIR, N-073, B...   0.0177507   0.0110735   \n",
       "11  (SpMax_L, LOC, F03[C-O], nCRX3, nCIR, N-073, B...   0.0152715  0.00952695   \n",
       "12  (SpMax_L, NssssC, LOC, F03[C-O], nCRX3, nCIR, ...   0.0127091  0.00792844   \n",
       "13  (SpMax_L, NssssC, LOC, F03[C-O], nCRX3, nCIR, ...   0.0156487  0.00976226   \n",
       "14  (SpMax_L, nHM, NssssC, LOC, F03[C-O], nCRX3, n...   0.0128852  0.00803827   \n",
       "15  (SpMax_L, nHM, NssssC, F03[C-N], LOC, F03[C-O]...   0.0231434   0.0144377   \n",
       "16  (SpMax_L, nHM, NssssC, F03[C-N], LOC, F03[C-O]...    0.028477    0.017765   \n",
       "17  (SpMax_L, nHM, F01[N-N], NssssC, F03[C-N], LOC...   0.0223787   0.0139607   \n",
       "18  (SpMax_L, nHM, F01[N-N], NssssC, F03[C-N], LOC...   0.0219867   0.0137161   \n",
       "19  (SpMax_L, nHM, F01[N-N], NssssC, F03[C-N], LOC...   0.0287554   0.0179387   \n",
       "20  (SpMax_L, nHM, F01[N-N], NssssC, nCp, F03[C-N]...   0.0178835   0.0111564   \n",
       "21  (SpMax_L, nHM, F01[N-N], NssssC, nCp, F03[C-N]...   0.0257487    0.016063   \n",
       "22  (SpMax_L, nHM, F01[N-N], NssssC, C%, nCp, F03[...    0.026136   0.0163046   \n",
       "23  (SpMax_L, nHM, F01[N-N], NssssC, C%, nCp, F03[...   0.0330257   0.0206027   \n",
       "24  (SpMax_L, nHM, F01[N-N], NssssC, C%, nCp, F03[...   0.0252436   0.0157479   \n",
       "25  (SpMax_L, nHM, F01[N-N], NssssC, C%, nCp, F03[...   0.0385371   0.0240409   \n",
       "26  (SpMax_L, J_Dz(e), nHM, F01[N-N], NssssC, C%, ...   0.0220395    0.013749   \n",
       "27  (SpMax_L, J_Dz(e), nHM, F01[N-N], NssssC, C%, ...   0.0347251   0.0216628   \n",
       "28  (SpMax_L, J_Dz(e), nHM, F01[N-N], NssssC, C%, ...   0.0333129   0.0207819   \n",
       "29  (SpMax_L, J_Dz(e), nHM, F01[N-N], NssssC, C%, ...   0.0300562   0.0187502   \n",
       "30  (SpMax_L, J_Dz(e), nHM, F01[N-N], F04[C-N], Ns...   0.0217121   0.0135448   \n",
       "31  (SpMax_L, J_Dz(e), nHM, F01[N-N], F04[C-N], Ns...   0.0422075   0.0263306   \n",
       "32  (SpMax_L, J_Dz(e), nHM, F01[N-N], F04[C-N], Ns...   0.0346398   0.0216096   \n",
       "33  (SpMax_L, J_Dz(e), nHM, F01[N-N], F04[C-N], Ns...   0.0485928    0.030314   \n",
       "34  (SpMax_L, J_Dz(e), nHM, F01[N-N], F04[C-N], Ns...   0.0216448   0.0135028   \n",
       "35  (SpMax_L, J_Dz(e), nHM, F01[N-N], F04[C-N], Ns...   0.0445503   0.0277922   \n",
       "36  (SpMax_L, J_Dz(e), nHM, F01[N-N], F04[C-N], Ns...   0.0376814   0.0235071   \n",
       "37  (SpMax_L, J_Dz(e), nHM, F01[N-N], F04[C-N], Ns...    0.045291   0.0282542   \n",
       "38  (SpMax_L, J_Dz(e), nHM, F01[N-N], F04[C-N], Ns...   0.0494197   0.0308298   \n",
       "39  (SpMax_L, J_Dz(e), nHM, F01[N-N], F04[C-N], Ns...   0.0347693   0.0216904   \n",
       "40  (SpMax_L, J_Dz(e), nHM, F01[N-N], F04[C-N], Ns...   0.0297303   0.0185469   \n",
       "41  (SpMax_L, J_Dz(e), nHM, F01[N-N], F04[C-N], Ns...   0.0416593   0.0259886   \n",
       "\n",
       "       std_err  \n",
       "1    0.0190089  \n",
       "2    0.0162839  \n",
       "3   0.00293616  \n",
       "4    0.0105726  \n",
       "5   0.00855681  \n",
       "6   0.00537175  \n",
       "7   0.00549798  \n",
       "8   0.00659013  \n",
       "9   0.00769399  \n",
       "10   0.0063933  \n",
       "11  0.00550039  \n",
       "12  0.00457749  \n",
       "13  0.00563625  \n",
       "14   0.0046409  \n",
       "15  0.00833564  \n",
       "16   0.0102566  \n",
       "17  0.00806021  \n",
       "18    0.007919  \n",
       "19   0.0103569  \n",
       "20  0.00644116  \n",
       "21    0.009274  \n",
       "22  0.00941348  \n",
       "23   0.0118949  \n",
       "24  0.00909205  \n",
       "25     0.01388  \n",
       "26  0.00793801  \n",
       "27    0.012507  \n",
       "28   0.0119984  \n",
       "29   0.0108254  \n",
       "30  0.00782011  \n",
       "31    0.015202  \n",
       "32   0.0124763  \n",
       "33   0.0175018  \n",
       "34  0.00779587  \n",
       "35   0.0160458  \n",
       "36   0.0135718  \n",
       "37   0.0163126  \n",
       "38   0.0177996  \n",
       "39   0.0125229  \n",
       "40   0.0107081  \n",
       "41   0.0150045  "
      ]
     },
     "execution_count": 56,
     "metadata": {},
     "output_type": "execute_result"
    }
   ],
   "source": [
    "pd.DataFrame.from_dict(sfs.get_metric_dict()).T"
   ]
  },
  {
   "cell_type": "code",
   "execution_count": 57,
   "metadata": {},
   "outputs": [
    {
     "name": "stdout",
     "output_type": "stream",
     "text": [
      "Highest Feature Score:  0.877725688443369\n"
     ]
    }
   ],
   "source": [
    "#prints features with highest scores\n",
    "print(\"Highest Feature Score: \", sfs.k_score_)"
   ]
  },
  {
   "cell_type": "code",
   "execution_count": 58,
   "metadata": {},
   "outputs": [
    {
     "name": "stdout",
     "output_type": "stream",
     "text": [
      "Feature Index:  (0, 1, 2, 3, 5, 7, 8, 10, 13, 15, 16, 17, 20, 22, 23, 24, 25, 28, 30, 31, 33, 35, 36, 37, 39, 40)\n"
     ]
    }
   ],
   "source": [
    "#Lists the combination of features' index with the highest score\n",
    "print(\"Feature Index: \", sfs.k_feature_idx_)"
   ]
  },
  {
   "cell_type": "code",
   "execution_count": 59,
   "metadata": {},
   "outputs": [
    {
     "name": "stdout",
     "output_type": "stream",
     "text": [
      "Feature Names:  ('SpMax_L', 'J_Dz(e)', 'nHM', 'F01[N-N]', 'NssssC', 'C%', 'nCp', 'F03[C-N]', 'LOC', 'F03[C-O]', 'Me', 'Mi', 'nCRX3', 'nCIR', 'B01[C-Br]', 'B03[C-Cl]', 'N-073', 'B04[C-Br]', 'TI2_L', 'nCrt', 'F02[C-N]', 'SpMax_B(m)', 'Psi_i_A', 'nN', 'nArCOOR', 'nX')\n"
     ]
    }
   ],
   "source": [
    "#Lists the combination of features with the highest score\n",
    "print(\"Feature Names: \", sfs.k_feature_names_)"
   ]
  },
  {
   "cell_type": "markdown",
   "metadata": {},
   "source": [
    "### Features selected: (0, 1, 2, 3, 5, 7, 8, 10, 13, 15, 16, 17, 20, 22, 23, 24, 25, 28, 30, 31, 33, 35, 36, 37, 39, 40)\n",
    "\n",
    "### 'SpMax_L', 'J_Dz(e)', 'nHM', 'F01[N-N]', 'NssssC', 'C%', 'nCp', 'F03[C-N]', 'LOC', 'F03[C-O]', 'Me', 'Mi', 'nCRX3', 'nCIR', 'B01[C-Br]', 'B03[C-Cl]', 'N-073', 'B04[C-Br]', 'TI2_L', 'nCrt', 'F02[C-N]', 'SpMax_B(m)', 'Psi_i_A', 'nN', 'nArCOOR', 'nX'\n",
    "\n",
    "#### Ensuring the best suitable number of features i.e. k-value:"
   ]
  },
  {
   "cell_type": "code",
   "execution_count": 60,
   "metadata": {},
   "outputs": [
    {
     "data": {
      "image/png": "[encoded data removed]",
      "text/plain": [
       "<Figure size 1080x288 with 1 Axes>"
      ]
     },
     "metadata": {
      "needs_background": "light"
     },
     "output_type": "display_data"
    }
   ],
   "source": [
    "from mlxtend.plotting import plot_sequential_feature_selection as plot_sfs\n",
    "import matplotlib.pyplot as plt\n",
    "\n",
    "checkkvalue = plot_sfs(sfs.get_metric_dict(), kind='std_dev',figsize=(15, 4))\n",
    "plt.title('K-value(Number of features) VS Performance(Accuracy)')\n",
    "\n",
    "plt.grid()\n",
    "plt.show()"
   ]
  },
  {
   "cell_type": "markdown",
   "metadata": {},
   "source": [
    "## Predictive model using Support Vector Machine algorithm.\n",
    "\n",
    "#### Import libraries for SVM model"
   ]
  },
  {
   "cell_type": "code",
   "execution_count": 61,
   "metadata": {},
   "outputs": [],
   "source": [
    "from sklearn.model_selection import train_test_split\n",
    "from sklearn.svm import SVC"
   ]
  },
  {
   "cell_type": "markdown",
   "metadata": {},
   "source": [
    "#### Assigning the best features to variable X"
   ]
  },
  {
   "cell_type": "code",
   "execution_count": 88,
   "metadata": {},
   "outputs": [],
   "source": [
    "X = biodeg[['SpMax_L', 'J_Dz(e)', 'nHM', 'F01[N-N]', 'NssssC', 'C%', 'nCp', 'F03[C-N]', 'LOC', 'F03[C-O]', \n",
    "            'Me', 'Mi', 'nCRX3', 'nCIR', 'B01[C-Br]', 'B03[C-Cl]', 'N-073', 'B04[C-Br]', 'TI2_L', 'nCrt', \n",
    "            'F02[C-N]', 'SpMax_B(m)', 'Psi_i_A', 'nN', 'nArCOOR', 'nX']]"
   ]
  },
  {
   "cell_type": "markdown",
   "metadata": {},
   "source": [
    "#### Splitting dataset to test and train data"
   ]
  },
  {
   "cell_type": "code",
   "execution_count": 89,
   "metadata": {},
   "outputs": [
    {
     "name": "stdout",
     "output_type": "stream",
     "text": [
      "Training dataset shape:  (844, 26)\n",
      "Testing dataset shape:  (211, 26)\n"
     ]
    }
   ],
   "source": [
    "X_train, X_test, y_train, y_test = train_test_split(X, y, test_size=0.2,random_state=0) \n",
    "\n",
    "print(\"Training dataset shape: \", X_train.shape) \n",
    "print(\"Testing dataset shape: \", X_test.shape)"
   ]
  },
  {
   "cell_type": "markdown",
   "metadata": {},
   "source": [
    "### 1. Linear Kernel\n",
    "\n",
    "#### For our classification, we use  Support Vector Classifier (_SVC_) class, taking kernel type i.e. linear as a parameter.\n",
    "#### The _fit_ method from the _SVC_ class takes the training data as argument to train SVM algorithm on the training data."
   ]
  },
  {
   "cell_type": "code",
   "execution_count": 90,
   "metadata": {},
   "outputs": [
    {
     "data": {
      "text/plain": [
       "SVC(kernel='linear')"
      ]
     },
     "execution_count": 90,
     "metadata": {},
     "output_type": "execute_result"
    }
   ],
   "source": [
    "svc1 = SVC(kernel='linear')\n",
    "svc1.fit(X_train, y_train)"
   ]
  },
  {
   "cell_type": "markdown",
   "metadata": {},
   "source": [
    "#### We use the predict method from the SVR class for predictions with the test and train data as the parameters."
   ]
  },
  {
   "cell_type": "code",
   "execution_count": 91,
   "metadata": {},
   "outputs": [],
   "source": [
    "y_predTest1 = svc1.predict(X_test)\n",
    "y_predTrain1 = svc1.predict(X_train)"
   ]
  },
  {
   "cell_type": "markdown",
   "metadata": {},
   "source": [
    "#### A graph of experimental class against predicted experimental class is plotted."
   ]
  },
  {
   "cell_type": "code",
   "execution_count": 134,
   "metadata": {},
   "outputs": [
    {
     "name": "stdout",
     "output_type": "stream",
     "text": [
      "------------------------Linear Kernel-----------------------\n"
     ]
    },
    {
     "data": {
      "image/png": "[encoded data removed]",
      "text/plain": [
       "<Figure size 432x288 with 1 Axes>"
      ]
     },
     "metadata": {
      "needs_background": "light"
     },
     "output_type": "display_data"
    }
   ],
   "source": [
    "plt.scatter(y_test, y_predTest1)\n",
    "plt.xlabel('Experimental Class: $Y_i$')\n",
    "plt.ylabel('Predicted  Experimental Class: $\\hat{Y}_i$')\n",
    "plt.title('Experimental Class vs Predicted Experimental Class: $Y_i$ vs $\\hat{Y}_i$')\n",
    "\n",
    "# plot a line, a perfect prediction would all fall on this line\n",
    "x = np.linspace(0, 2)\n",
    "y = x\n",
    "plt.plot(x, y, 'r')\n",
    "print(\"------------------------Linear Kernel-----------------------\")"
   ]
  },
  {
   "cell_type": "markdown",
   "metadata": {},
   "source": [
    "#### To evaluate our algorithm, we use accuracy_score, confusion_matrix and classification_report to obtain the values of the respective metrics. The classification_report lists precision score, recall score and f1-score for both classes, macro average and weighted average.\n",
    "\n",
    "##### Testing Data"
   ]
  },
  {
   "cell_type": "code",
   "execution_count": 93,
   "metadata": {},
   "outputs": [
    {
     "name": "stdout",
     "output_type": "stream",
     "text": [
      "Testing Data\n",
      "---------------\n",
      "Accuracy Score:  0.8483412322274881\n",
      "\n",
      "Confusion Matrix:\n",
      "  [[134  18]\n",
      " [ 14  45]]\n",
      "\n",
      "\n",
      "Classification Report:\n",
      "\n",
      "              precision    recall  f1-score   support\n",
      "\n",
      "         NRB       0.91      0.88      0.89       152\n",
      "          RB       0.71      0.76      0.74        59\n",
      "\n",
      "    accuracy                           0.85       211\n",
      "   macro avg       0.81      0.82      0.82       211\n",
      "weighted avg       0.85      0.85      0.85       211\n",
      "\n"
     ]
    }
   ],
   "source": [
    "from sklearn.metrics import accuracy_score, confusion_matrix, classification_report\n",
    "\n",
    "print(\"Testing Data\\n---------------\")\n",
    "print(\"Accuracy Score: \", accuracy_score(y_test, y_predTest1))\n",
    "\n",
    "print(\"\\nConfusion Matrix:\\n \", confusion_matrix(y_test, y_predTest1))\n",
    "\n",
    "print(\"\\n\\nClassification Report:\\n\")\n",
    "print(classification_report(y_test, y_predTest1))"
   ]
  },
  {
   "cell_type": "markdown",
   "metadata": {},
   "source": [
    "##### Training Data"
   ]
  },
  {
   "cell_type": "code",
   "execution_count": 94,
   "metadata": {},
   "outputs": [
    {
     "name": "stdout",
     "output_type": "stream",
     "text": [
      "Training Data\n",
      "---------------\n",
      "Accuracy Score:  0.8755924170616114\n",
      "\n",
      "Confusion Matrix:\n",
      "  [[504  43]\n",
      " [ 62 235]]\n",
      "\n",
      "\n",
      "Classification Report:\n",
      "\n",
      "              precision    recall  f1-score   support\n",
      "\n",
      "         NRB       0.89      0.92      0.91       547\n",
      "          RB       0.85      0.79      0.82       297\n",
      "\n",
      "    accuracy                           0.88       844\n",
      "   macro avg       0.87      0.86      0.86       844\n",
      "weighted avg       0.87      0.88      0.87       844\n",
      "\n"
     ]
    }
   ],
   "source": [
    "print(\"Training Data\\n---------------\")\n",
    "print(\"Accuracy Score: \", accuracy_score(y_train, y_predTrain1))\n",
    "\n",
    "print(\"\\nConfusion Matrix:\\n \", confusion_matrix(y_train, y_predTrain1))\n",
    "\n",
    "print(\"\\n\\nClassification Report:\\n\")\n",
    "print(classification_report(y_train, y_predTrain1))"
   ]
  },
  {
   "cell_type": "markdown",
   "metadata": {},
   "source": [
    "### 2. Polynomial Kernel\n",
    "\n",
    "#### We take kernel type _poly_ i.e. polynomial and its degree as the parameters for SVC class.\n",
    "#### Like before for linear kernel, the _fit_ method from the _SVC_ class takes the training data as argument to train SVM algorithm."
   ]
  },
  {
   "cell_type": "code",
   "execution_count": 95,
   "metadata": {},
   "outputs": [
    {
     "data": {
      "text/plain": [
       "SVC(degree=8, kernel='poly')"
      ]
     },
     "execution_count": 95,
     "metadata": {},
     "output_type": "execute_result"
    }
   ],
   "source": [
    "svc2 = SVC(kernel='poly', degree=8)\n",
    "svc2.fit(X_train, y_train)"
   ]
  },
  {
   "cell_type": "markdown",
   "metadata": {},
   "source": [
    "#### We use the predict method from the SVC class for predictions with the test and train data as the parameters."
   ]
  },
  {
   "cell_type": "code",
   "execution_count": 96,
   "metadata": {},
   "outputs": [],
   "source": [
    "y_predTest2 = svc2.predict(X_test)\n",
    "y_predTrain2 = svc2.predict(X_train)"
   ]
  },
  {
   "cell_type": "markdown",
   "metadata": {},
   "source": [
    "#### A graph of experimental class against predicted experimental class is plotted."
   ]
  },
  {
   "cell_type": "code",
   "execution_count": 135,
   "metadata": {},
   "outputs": [
    {
     "name": "stdout",
     "output_type": "stream",
     "text": [
      "------------------------Polynomial Kernel-----------------------\n"
     ]
    },
    {
     "data": {
      "image/png": "[encoded data removed]",
      "text/plain": [
       "<Figure size 432x288 with 1 Axes>"
      ]
     },
     "metadata": {
      "needs_background": "light"
     },
     "output_type": "display_data"
    }
   ],
   "source": [
    "plt.scatter(y_test, y_predTest2)\n",
    "plt.xlabel('Experimental Class: $Y_i$')\n",
    "plt.ylabel('Predicted  Experimental Class: $\\hat{Y}_i$')\n",
    "plt.title('Experimental Class vs Predicted Experimental Class: $Y_i$ vs $\\hat{Y}_i$')\n",
    "\n",
    "# plot a line, a perfect prediction would all fall on this line\n",
    "x = np.linspace(0, 2)\n",
    "y = x\n",
    "plt.plot(x, y, 'r')\n",
    "print(\"------------------------Polynomial Kernel-----------------------\")"
   ]
  },
  {
   "cell_type": "markdown",
   "metadata": {},
   "source": [
    "#### To evaluate our algorithm, we use accuracy_score, confusion_matrix and classification_report to obtain the values of the respective metrics. The classification_report lists precision score, recall score and f1-score for both classes, macro average and weighted average.\n",
    "\n",
    "##### Testing Data"
   ]
  },
  {
   "cell_type": "code",
   "execution_count": 98,
   "metadata": {},
   "outputs": [
    {
     "name": "stdout",
     "output_type": "stream",
     "text": [
      "Testing Data\n",
      "---------------\n",
      "Accuracy Score:  0.7630331753554502\n",
      "\n",
      "Confusion Matrix:\n",
      "  [[140  12]\n",
      " [ 38  21]]\n",
      "\n",
      "\n",
      "Classification Report:\n",
      "\n",
      "              precision    recall  f1-score   support\n",
      "\n",
      "         NRB       0.79      0.92      0.85       152\n",
      "          RB       0.64      0.36      0.46        59\n",
      "\n",
      "    accuracy                           0.76       211\n",
      "   macro avg       0.71      0.64      0.65       211\n",
      "weighted avg       0.74      0.76      0.74       211\n",
      "\n"
     ]
    }
   ],
   "source": [
    "print(\"Testing Data\\n---------------\")\n",
    "print(\"Accuracy Score: \", accuracy_score(y_test, y_predTest2))\n",
    "\n",
    "print(\"\\nConfusion Matrix:\\n \", confusion_matrix(y_test, y_predTest2))\n",
    "\n",
    "print(\"\\n\\nClassification Report:\\n\")\n",
    "print(classification_report(y_test, y_predTest2))\n"
   ]
  },
  {
   "cell_type": "markdown",
   "metadata": {},
   "source": [
    "##### Training Data"
   ]
  },
  {
   "cell_type": "code",
   "execution_count": 99,
   "metadata": {},
   "outputs": [
    {
     "name": "stdout",
     "output_type": "stream",
     "text": [
      "Training Data\n",
      "---------------\n",
      "Accuracy Score:  0.764218009478673\n",
      "\n",
      "Confusion Matrix:\n",
      "  [[518  29]\n",
      " [170 127]]\n",
      "\n",
      "\n",
      "Classification Report:\n",
      "\n",
      "              precision    recall  f1-score   support\n",
      "\n",
      "         NRB       0.75      0.95      0.84       547\n",
      "          RB       0.81      0.43      0.56       297\n",
      "\n",
      "    accuracy                           0.76       844\n",
      "   macro avg       0.78      0.69      0.70       844\n",
      "weighted avg       0.77      0.76      0.74       844\n",
      "\n"
     ]
    }
   ],
   "source": [
    "print(\"Training Data\\n---------------\")\n",
    "print(\"Accuracy Score: \", accuracy_score(y_train, y_predTrain2))\n",
    "\n",
    "print(\"\\nConfusion Matrix:\\n \", confusion_matrix(y_train, y_predTrain2))\n",
    "\n",
    "print(\"\\n\\nClassification Report:\\n\")\n",
    "print(classification_report(y_train, y_predTrain2))"
   ]
  },
  {
   "cell_type": "markdown",
   "metadata": {},
   "source": [
    "### 3. Gaussian Kernel\n",
    "\n",
    "#### We take kernel type _rbf_ for Gaussian Kernel as the parameter for SVC class.\n",
    "#### Once again, the _fit_ method from the _SVC_ class takes the training data as argument to train SVM algorithm."
   ]
  },
  {
   "cell_type": "code",
   "execution_count": 100,
   "metadata": {},
   "outputs": [
    {
     "data": {
      "text/plain": [
       "SVC()"
      ]
     },
     "execution_count": 100,
     "metadata": {},
     "output_type": "execute_result"
    }
   ],
   "source": [
    "svc3 = SVC(kernel='rbf')\n",
    "svc3.fit(X_train, y_train)"
   ]
  },
  {
   "cell_type": "markdown",
   "metadata": {},
   "source": [
    "#### We use the predict method from the SVC class for predictions with the test and train data as the parameters."
   ]
  },
  {
   "cell_type": "code",
   "execution_count": 101,
   "metadata": {},
   "outputs": [],
   "source": [
    "y_predTest3 = svc3.predict(X_test)\n",
    "y_predTrain3 = svc3.predict(X_train)"
   ]
  },
  {
   "cell_type": "markdown",
   "metadata": {},
   "source": [
    "#### A graph of experimental class against predicted experimental class is plotted."
   ]
  },
  {
   "cell_type": "code",
   "execution_count": 137,
   "metadata": {},
   "outputs": [
    {
     "name": "stdout",
     "output_type": "stream",
     "text": [
      "\n",
      "------------------------Gaussian Kernel-----------------------\n"
     ]
    },
    {
     "data": {
      "image/png": "[encoded data removed]",
      "text/plain": [
       "<Figure size 432x288 with 1 Axes>"
      ]
     },
     "metadata": {
      "needs_background": "light"
     },
     "output_type": "display_data"
    }
   ],
   "source": [
    "plt.scatter(y_test, y_predTest3)\n",
    "plt.xlabel('Experimental Class: $Y_i$')\n",
    "plt.ylabel('Predicted  Experimental Class: $\\hat{Y}_i$')\n",
    "plt.title('Experimental Class vs Predicted Experimental Class: $Y_i$ vs $\\hat{Y}_i$')\n",
    "\n",
    "# plot a line, a perfect prediction would all fall on this line\n",
    "x = np.linspace(0, 2)\n",
    "y = x\n",
    "plt.plot(x, y, 'r')\n",
    "print(\"\\n------------------------Gaussian Kernel-----------------------\")"
   ]
  },
  {
   "cell_type": "markdown",
   "metadata": {},
   "source": [
    "#### To evaluate our algorithm, we use accuracy_score, confusion_matrix and classification_report to obtain the values of the respective metrics. The classification_report lists precision score, recall score and f1-score for both classes, macro average and weighted average.\n",
    "\n",
    "##### Testing Data\n"
   ]
  },
  {
   "cell_type": "code",
   "execution_count": 103,
   "metadata": {},
   "outputs": [
    {
     "name": "stdout",
     "output_type": "stream",
     "text": [
      "Testing Data\n",
      "---------------\n",
      "Accuracy Score:  0.8056872037914692\n",
      "\n",
      "Confusion Matrix:\n",
      "  [[132  20]\n",
      " [ 21  38]]\n",
      "\n",
      "\n",
      "Classification Report:\n",
      "\n",
      "              precision    recall  f1-score   support\n",
      "\n",
      "         NRB       0.86      0.87      0.87       152\n",
      "          RB       0.66      0.64      0.65        59\n",
      "\n",
      "    accuracy                           0.81       211\n",
      "   macro avg       0.76      0.76      0.76       211\n",
      "weighted avg       0.80      0.81      0.81       211\n",
      "\n"
     ]
    }
   ],
   "source": [
    "print(\"Testing Data\\n---------------\")\n",
    "print(\"Accuracy Score: \", accuracy_score(y_test, y_predTest3))\n",
    "\n",
    "print(\"\\nConfusion Matrix:\\n \", confusion_matrix(y_test, y_predTest3))\n",
    "\n",
    "print(\"\\n\\nClassification Report:\\n\")\n",
    "print(classification_report(y_test, y_predTest3))\n"
   ]
  },
  {
   "cell_type": "markdown",
   "metadata": {},
   "source": [
    "##### Training Data"
   ]
  },
  {
   "cell_type": "code",
   "execution_count": 104,
   "metadata": {},
   "outputs": [
    {
     "name": "stdout",
     "output_type": "stream",
     "text": [
      "Training Data\n",
      "---------------\n",
      "Accuracy Score:  0.806872037914692\n",
      "\n",
      "Confusion Matrix:\n",
      "  [[501  46]\n",
      " [117 180]]\n",
      "\n",
      "\n",
      "Classification Report:\n",
      "\n",
      "              precision    recall  f1-score   support\n",
      "\n",
      "         NRB       0.81      0.92      0.86       547\n",
      "          RB       0.80      0.61      0.69       297\n",
      "\n",
      "    accuracy                           0.81       844\n",
      "   macro avg       0.80      0.76      0.77       844\n",
      "weighted avg       0.81      0.81      0.80       844\n",
      "\n"
     ]
    }
   ],
   "source": [
    "print(\"Training Data\\n---------------\")\n",
    "print(\"Accuracy Score: \", accuracy_score(y_train, y_predTrain3))\n",
    "\n",
    "print(\"\\nConfusion Matrix:\\n \", confusion_matrix(y_train, y_predTrain3))\n",
    "\n",
    "print(\"\\n\\nClassification Report:\\n\")\n",
    "print(classification_report(y_train, y_predTrain3))\n"
   ]
  },
  {
   "cell_type": "markdown",
   "metadata": {},
   "source": [
    "### 4. Sigmoid Kernel\n",
    "\n",
    "#### We take kernel type _sigmoid_ as the parameter for SVC class.\n",
    "#### For the final time, the _fit_ method from the _SVC_ class takes the training data as argument to train SVM algorithm."
   ]
  },
  {
   "cell_type": "code",
   "execution_count": 105,
   "metadata": {},
   "outputs": [
    {
     "data": {
      "text/plain": [
       "SVC(kernel='sigmoid')"
      ]
     },
     "execution_count": 105,
     "metadata": {},
     "output_type": "execute_result"
    }
   ],
   "source": [
    "svc4 = SVC(kernel='sigmoid')\n",
    "svc4.fit(X_train, y_train)"
   ]
  },
  {
   "cell_type": "markdown",
   "metadata": {},
   "source": [
    "#### We use the predict method from the SVC class for predictions with the test and train data as the parameters."
   ]
  },
  {
   "cell_type": "code",
   "execution_count": 106,
   "metadata": {},
   "outputs": [],
   "source": [
    "y_predTest4 = svc4.predict(X_test)\n",
    "y_predTrain4 = svc4.predict(X_train)"
   ]
  },
  {
   "cell_type": "markdown",
   "metadata": {},
   "source": [
    "#### A graph of experimental class against predicted experimental class is plotted."
   ]
  },
  {
   "cell_type": "code",
   "execution_count": 138,
   "metadata": {},
   "outputs": [
    {
     "name": "stdout",
     "output_type": "stream",
     "text": [
      "\n",
      "------------------------Sigmoid Kernel-----------------------\n"
     ]
    },
    {
     "data": {
      "image/png": "[encoded data removed]",
      "text/plain": [
       "<Figure size 432x288 with 1 Axes>"
      ]
     },
     "metadata": {
      "needs_background": "light"
     },
     "output_type": "display_data"
    }
   ],
   "source": [
    "plt.scatter(y_test, y_predTest4)\n",
    "plt.xlabel('Experimental Class: $Y_i$')\n",
    "plt.ylabel('Predicted  Experimental Class: $\\hat{Y}_i$')\n",
    "plt.title('Experimental Class vs Predicted Experimental Class: $Y_i$ vs $\\hat{Y}_i$')\n",
    "\n",
    "# plot a line, a perfect prediction would all fall on this line\n",
    "x = np.linspace(0, 2)\n",
    "y = x\n",
    "plt.plot(x, y, 'r')\n",
    "print(\"\\n------------------------Sigmoid Kernel-----------------------\")"
   ]
  },
  {
   "cell_type": "markdown",
   "metadata": {},
   "source": [
    "#### To evaluate our algorithm, we use accuracy_score, confusion_matrix and classification_report to obtain the values of the respective metrics. The classification_report lists precision score, recall score and f1-score for both classes, macro average and weighted average.\n",
    "\n",
    "##### Testing Data"
   ]
  },
  {
   "cell_type": "code",
   "execution_count": 109,
   "metadata": {},
   "outputs": [
    {
     "name": "stdout",
     "output_type": "stream",
     "text": [
      "Testing Data\n",
      "---------------\n",
      "Accuracy Score:  0.5260663507109005\n",
      "\n",
      "Confusion Matrix:\n",
      "  [[101  51]\n",
      " [ 49  10]]\n",
      "\n",
      "\n",
      "Classification Report:\n",
      "\n",
      "              precision    recall  f1-score   support\n",
      "\n",
      "         NRB       0.67      0.66      0.67       152\n",
      "          RB       0.16      0.17      0.17        59\n",
      "\n",
      "    accuracy                           0.53       211\n",
      "   macro avg       0.42      0.42      0.42       211\n",
      "weighted avg       0.53      0.53      0.53       211\n",
      "\n"
     ]
    }
   ],
   "source": [
    "print(\"Testing Data\\n---------------\")\n",
    "print(\"Accuracy Score: \", accuracy_score(y_test, y_predTest4))\n",
    "\n",
    "print(\"\\nConfusion Matrix:\\n \", confusion_matrix(y_test, y_predTest4))\n",
    "\n",
    "print(\"\\n\\nClassification Report:\\n\")\n",
    "print(classification_report(y_test, y_predTest4))"
   ]
  },
  {
   "cell_type": "markdown",
   "metadata": {},
   "source": [
    "##### Training Data"
   ]
  },
  {
   "cell_type": "code",
   "execution_count": 110,
   "metadata": {},
   "outputs": [
    {
     "name": "stdout",
     "output_type": "stream",
     "text": [
      "Training Data\n",
      "---------------\n",
      "Accuracy Score:  0.4976303317535545\n",
      "\n",
      "Confusion Matrix:\n",
      "  [[361 186]\n",
      " [238  59]]\n",
      "\n",
      "\n",
      "Classification Report:\n",
      "\n",
      "              precision    recall  f1-score   support\n",
      "\n",
      "         NRB       0.60      0.66      0.63       547\n",
      "          RB       0.24      0.20      0.22       297\n",
      "\n",
      "    accuracy                           0.50       844\n",
      "   macro avg       0.42      0.43      0.42       844\n",
      "weighted avg       0.48      0.50      0.48       844\n",
      "\n"
     ]
    }
   ],
   "source": [
    "print(\"Training Data\\n---------------\")\n",
    "print(\"Accuracy Score: \", accuracy_score(y_train, y_predTrain4))\n",
    "\n",
    "print(\"\\nConfusion Matrix:\\n \", confusion_matrix(y_train, y_predTrain4))\n",
    "\n",
    "print(\"\\n\\nClassification Report:\\n\")\n",
    "print(classification_report(y_train, y_predTrain4))"
   ]
  },
  {
   "cell_type": "markdown",
   "metadata": {},
   "source": [
    "#### Graphs of the data models of different kernals against recall score, precision score, F1 score and accuracy are plotted. Recall score, precision score and F1 score are plotted for both macro average and weighted average."
   ]
  },
  {
   "cell_type": "code",
   "execution_count": 111,
   "metadata": {},
   "outputs": [],
   "source": [
    "from sklearn.metrics import accuracy_score, recall_score, precision_score, f1_score\n",
    "kernal = ['Linear','Polynomial','Gaussian','Sigmoid']"
   ]
  },
  {
   "cell_type": "markdown",
   "metadata": {},
   "source": [
    "##### Accuracy Score"
   ]
  },
  {
   "cell_type": "code",
   "execution_count": 112,
   "metadata": {},
   "outputs": [
    {
     "name": "stdout",
     "output_type": "stream",
     "text": [
      "Testing Data\n"
     ]
    },
    {
     "data": {
      "image/png": "[encoded data removed]",
      "text/plain": [
       "<Figure size 432x288 with 1 Axes>"
      ]
     },
     "metadata": {
      "needs_background": "light"
     },
     "output_type": "display_data"
    },
    {
     "name": "stdout",
     "output_type": "stream",
     "text": [
      "Training Data\n"
     ]
    },
    {
     "data": {
      "image/png": "[encoded data removed]",
      "text/plain": [
       "<Figure size 432x288 with 1 Axes>"
      ]
     },
     "metadata": {
      "needs_background": "light"
     },
     "output_type": "display_data"
    }
   ],
   "source": [
    "T_accuracy = [accuracy_score(y_test, y_predTest1),\n",
    "           accuracy_score(y_test, y_predTest2),\n",
    "           accuracy_score(y_test, y_predTest3),\n",
    "           accuracy_score(y_test, y_predTest4)]\n",
    "\n",
    "Tr_accuracy = [accuracy_score(y_train, y_predTrain1),\n",
    "           accuracy_score(y_train, y_predTrain2),\n",
    "           accuracy_score(y_train, y_predTrain3),\n",
    "           accuracy_score(y_train, y_predTrain4)]\n",
    "\n",
    "\n",
    "print(\"Testing Data\")\n",
    "a = plt.plot(kernal, T_accuracy, color = 'blue')\n",
    "plt.title('Data Models vs Accuracy')\n",
    "plt.xlabel('Data Models')\n",
    "plt.ylabel('Accuracy')\n",
    "plt.grid()\n",
    "plt.show(a)\n",
    "\n",
    "print(\"Training Data\")\n",
    "b = plt.plot(kernal, Tr_accuracy, color = 'red')\n",
    "plt.title('Data Models vs Accuracy')\n",
    "plt.xlabel('Data Models')\n",
    "plt.ylabel('Accuracy')\n",
    "plt.grid()\n",
    "plt.show(b)"
   ]
  },
  {
   "cell_type": "markdown",
   "metadata": {},
   "source": [
    "##### Recall Macro Average"
   ]
  },
  {
   "cell_type": "code",
   "execution_count": 113,
   "metadata": {},
   "outputs": [
    {
     "name": "stdout",
     "output_type": "stream",
     "text": [
      "Testing Data\n"
     ]
    },
    {
     "data": {
      "image/png": "[encoded data removed]",
      "text/plain": [
       "<Figure size 432x288 with 1 Axes>"
      ]
     },
     "metadata": {
      "needs_background": "light"
     },
     "output_type": "display_data"
    },
    {
     "name": "stdout",
     "output_type": "stream",
     "text": [
      "Training Data\n"
     ]
    },
    {
     "data": {
      "image/png": "[encoded data removed]",
      "text/plain": [
       "<Figure size 432x288 with 1 Axes>"
      ]
     },
     "metadata": {
      "needs_background": "light"
     },
     "output_type": "display_data"
    }
   ],
   "source": [
    "T_recMac = [recall_score(y_test, y_predTest1, average= 'macro'),\n",
    "                recall_score(y_test, y_predTest2, average= 'macro'),\n",
    "                recall_score(y_test, y_predTest3, average= 'macro'),\n",
    "                recall_score(y_test, y_predTest4, average= 'macro')]\n",
    "\n",
    "Tr_recMac = [recall_score(y_train, y_predTrain1, average= 'macro'),\n",
    "            recall_score(y_train, y_predTrain2, average= 'macro'),\n",
    "            recall_score(y_train, y_predTrain3, average= 'macro'),\n",
    "            recall_score(y_train, y_predTrain4, average= 'macro')]\n",
    "\n",
    "print(\"Testing Data\")\n",
    "c = plt.plot(kernal, T_recMac, color = 'blue')\n",
    "plt.title('Data Models vs Recall Macro Average')\n",
    "plt.xlabel('Data Models')\n",
    "plt.ylabel('Recall Macro Average')\n",
    "plt.grid()\n",
    "plt.show(c)\n",
    "\n",
    "print(\"Training Data\")\n",
    "d = plt.plot(kernal, Tr_recMac, color = 'red')\n",
    "plt.title('Data Models vs Recall Macro Average')\n",
    "plt.xlabel('Data Models')\n",
    "plt.ylabel('Recall Macro Average')\n",
    "plt.grid()\n",
    "plt.show(d)"
   ]
  },
  {
   "cell_type": "markdown",
   "metadata": {},
   "source": [
    "##### Recall Weighted Average"
   ]
  },
  {
   "cell_type": "code",
   "execution_count": 114,
   "metadata": {},
   "outputs": [
    {
     "name": "stdout",
     "output_type": "stream",
     "text": [
      "Testing Data\n"
     ]
    },
    {
     "data": {
      "image/png": "[encoded data removed]",
      "text/plain": [
       "<Figure size 432x288 with 1 Axes>"
      ]
     },
     "metadata": {
      "needs_background": "light"
     },
     "output_type": "display_data"
    },
    {
     "name": "stdout",
     "output_type": "stream",
     "text": [
      "Training Data\n"
     ]
    },
    {
     "data": {
      "image/png": "[encoded data removed]",
      "text/plain": [
       "<Figure size 432x288 with 1 Axes>"
      ]
     },
     "metadata": {
      "needs_background": "light"
     },
     "output_type": "display_data"
    }
   ],
   "source": [
    "T_recWei = [recall_score(y_test, y_predTest1, average= 'weighted'),\n",
    "                recall_score(y_test, y_predTest2, average= 'weighted'),\n",
    "                recall_score(y_test, y_predTest3, average= 'weighted'),\n",
    "                recall_score(y_test, y_predTest4, average= 'weighted')]\n",
    "\n",
    "Tr_recWei = [recall_score(y_train, y_predTrain1, average= 'weighted'),\n",
    "            recall_score(y_train, y_predTrain2, average= 'weighted'),\n",
    "            recall_score(y_train, y_predTrain3, average= 'weighted'),\n",
    "            recall_score(y_train, y_predTrain4, average= 'weighted')]\n",
    "\n",
    "\n",
    "print(\"Testing Data\")\n",
    "e = plt.plot(kernal, T_recWei, color = 'blue')\n",
    "plt.title('Data Models vs Recall Weight Average')\n",
    "plt.xlabel('Data Models')\n",
    "plt.ylabel('Recall Weight Average')\n",
    "plt.grid()\n",
    "plt.show(e)\n",
    "\n",
    "print(\"Training Data\")\n",
    "f = plt.plot(kernal, Tr_recWei, color = 'red')\n",
    "plt.title('Data Models vs Recall Weight Average')\n",
    "plt.xlabel('Data Models')\n",
    "plt.ylabel('Recall Weight Average')\n",
    "plt.grid()\n",
    "plt.show(f)"
   ]
  },
  {
   "cell_type": "markdown",
   "metadata": {},
   "source": [
    "##### Precision Macro Average"
   ]
  },
  {
   "cell_type": "code",
   "execution_count": 115,
   "metadata": {},
   "outputs": [
    {
     "name": "stdout",
     "output_type": "stream",
     "text": [
      "Testing Data\n"
     ]
    },
    {
     "data": {
      "image/png": "[encoded data removed]",
      "text/plain": [
       "<Figure size 432x288 with 1 Axes>"
      ]
     },
     "metadata": {
      "needs_background": "light"
     },
     "output_type": "display_data"
    },
    {
     "name": "stdout",
     "output_type": "stream",
     "text": [
      "Training Data\n"
     ]
    },
    {
     "data": {
      "image/png": "[encoded data removed]",
      "text/plain": [
       "<Figure size 432x288 with 1 Axes>"
      ]
     },
     "metadata": {
      "needs_background": "light"
     },
     "output_type": "display_data"
    }
   ],
   "source": [
    "T_precMac = [precision_score(y_test, y_predTest1, average= 'macro'),\n",
    "                precision_score(y_test, y_predTest2, average= 'macro'),\n",
    "                precision_score(y_test, y_predTest3, average= 'macro'),\n",
    "                precision_score(y_test, y_predTest4, average= 'macro')]\n",
    "\n",
    "Tr_precMac = [precision_score(y_train, y_predTrain1, average= 'macro'),\n",
    "            precision_score(y_train, y_predTrain2, average= 'macro'),\n",
    "            precision_score(y_train, y_predTrain3, average= 'macro'),\n",
    "            precision_score(y_train, y_predTrain4, average= 'macro')]\n",
    "\n",
    "print(\"Testing Data\")\n",
    "g = plt.plot(kernal, T_precMac, color = 'blue')\n",
    "plt.title('Data Models vs Precision Macro Average')\n",
    "plt.xlabel('Data Models')\n",
    "plt.ylabel('Precision Macro Average')\n",
    "plt.grid()\n",
    "plt.show(g)\n",
    "\n",
    "print(\"Training Data\")\n",
    "h = plt.plot(kernal, Tr_precMac, color = 'red')\n",
    "plt.title('Data Models vs Precision Macro Average')\n",
    "plt.xlabel('Data Models')\n",
    "plt.ylabel('Precision Macro Average')\n",
    "plt.grid()\n",
    "plt.show(h)"
   ]
  },
  {
   "cell_type": "markdown",
   "metadata": {},
   "source": [
    "##### Precision Weighted Average"
   ]
  },
  {
   "cell_type": "code",
   "execution_count": 116,
   "metadata": {},
   "outputs": [
    {
     "name": "stdout",
     "output_type": "stream",
     "text": [
      "Testing Data\n"
     ]
    },
    {
     "data": {
      "image/png": "[encoded data removed]",
      "text/plain": [
       "<Figure size 432x288 with 1 Axes>"
      ]
     },
     "metadata": {
      "needs_background": "light"
     },
     "output_type": "display_data"
    },
    {
     "name": "stdout",
     "output_type": "stream",
     "text": [
      "Training Data\n"
     ]
    },
    {
     "data": {
      "image/png": "[encoded data removed]",
      "text/plain": [
       "<Figure size 432x288 with 1 Axes>"
      ]
     },
     "metadata": {
      "needs_background": "light"
     },
     "output_type": "display_data"
    }
   ],
   "source": [
    "T_precWei = [precision_score(y_test, y_predTest1, average= 'weighted'),\n",
    "                precision_score(y_test, y_predTest2, average= 'weighted'),\n",
    "                precision_score(y_test, y_predTest3, average= 'weighted'),\n",
    "                precision_score(y_test, y_predTest4, average= 'weighted')]\n",
    "\n",
    "Tr_precWei = [precision_score(y_train, y_predTrain1, average= 'weighted'),\n",
    "            precision_score(y_train, y_predTrain2, average= 'weighted'),\n",
    "            precision_score(y_train, y_predTrain3, average= 'weighted'),\n",
    "            precision_score(y_train, y_predTrain4, average= 'weighted')]\n",
    "\n",
    "print(\"Testing Data\")\n",
    "i = plt.plot(kernal, T_precWei, color = 'blue')\n",
    "plt.title('Data Models vs Precision Weight Average')\n",
    "plt.xlabel('Data Models')\n",
    "plt.ylabel('Precision Weight Average')\n",
    "plt.grid()\n",
    "plt.show(i)\n",
    "\n",
    "print(\"Training Data\")\n",
    "j = plt.plot(kernal, Tr_precWei, color = 'red')\n",
    "plt.title('Data Models vs Precision Weight Average')\n",
    "plt.xlabel('Data Models')\n",
    "plt.ylabel('Precision Weight Average')\n",
    "plt.grid()\n",
    "plt.show(j)"
   ]
  },
  {
   "cell_type": "markdown",
   "metadata": {},
   "source": [
    "##### F1 Macro Average"
   ]
  },
  {
   "cell_type": "code",
   "execution_count": 117,
   "metadata": {},
   "outputs": [
    {
     "name": "stdout",
     "output_type": "stream",
     "text": [
      "Testing Data\n"
     ]
    },
    {
     "data": {
      "image/png": "[encoded data removed]",
      "text/plain": [
       "<Figure size 432x288 with 1 Axes>"
      ]
     },
     "metadata": {
      "needs_background": "light"
     },
     "output_type": "display_data"
    },
    {
     "name": "stdout",
     "output_type": "stream",
     "text": [
      "Training Data\n"
     ]
    },
    {
     "data": {
      "image/png": "[encoded data removed]",
      "text/plain": [
       "<Figure size 432x288 with 1 Axes>"
      ]
     },
     "metadata": {
      "needs_background": "light"
     },
     "output_type": "display_data"
    }
   ],
   "source": [
    "T_f1Mac = [f1_score(y_test, y_predTest1, average= 'macro'),\n",
    "        f1_score(y_test, y_predTest2, average= 'macro'),\n",
    "        f1_score(y_test, y_predTest3, average= 'macro'),\n",
    "        f1_score(y_test, y_predTest4, average= 'macro')]\n",
    "\n",
    "Tr_f1Mac = [f1_score(y_train, y_predTrain1, average= 'macro'),\n",
    "            f1_score(y_train, y_predTrain2, average= 'macro'),\n",
    "            f1_score(y_train, y_predTrain3, average= 'macro'),\n",
    "            f1_score(y_train, y_predTrain4, average= 'macro')]\n",
    "\n",
    "print(\"Testing Data\")\n",
    "k = plt.plot(kernal, T_f1Mac, color = 'blue')\n",
    "plt.title('Data Models vs F1 Macro Average')\n",
    "plt.xlabel('Data Models')\n",
    "plt.ylabel('F1 Macro Average')\n",
    "plt.grid()\n",
    "plt.show(k)\n",
    "\n",
    "print(\"Training Data\")\n",
    "l = plt.plot(kernal, Tr_f1Mac, color = 'red')\n",
    "plt.title('Data Models vs F1 Macro Average')\n",
    "plt.xlabel('Data Models')\n",
    "plt.ylabel('F1 Macro Average')\n",
    "plt.grid()\n",
    "plt.show(l)"
   ]
  },
  {
   "cell_type": "markdown",
   "metadata": {},
   "source": [
    "##### F1 Weighted Average"
   ]
  },
  {
   "cell_type": "code",
   "execution_count": 118,
   "metadata": {},
   "outputs": [
    {
     "name": "stdout",
     "output_type": "stream",
     "text": [
      "Testing Data\n"
     ]
    },
    {
     "data": {
      "image/png": "[encoded data removed]",
      "text/plain": [
       "<Figure size 432x288 with 1 Axes>"
      ]
     },
     "metadata": {
      "needs_background": "light"
     },
     "output_type": "display_data"
    },
    {
     "name": "stdout",
     "output_type": "stream",
     "text": [
      "Training Data\n"
     ]
    },
    {
     "data": {
      "image/png": "[encoded data removed]",
      "text/plain": [
       "<Figure size 432x288 with 1 Axes>"
      ]
     },
     "metadata": {
      "needs_background": "light"
     },
     "output_type": "display_data"
    }
   ],
   "source": [
    "T_f1Wei = [f1_score(y_test, y_predTest1, average= 'weighted'),\n",
    "            f1_score(y_test, y_predTest2, average= 'weighted'),\n",
    "            f1_score(y_test, y_predTest3, average= 'weighted'),\n",
    "            f1_score(y_test, y_predTest4, average= 'weighted')]\n",
    "\n",
    "Tr_f1Mac = [f1_score(y_train, y_predTrain1, average= 'weighted'),\n",
    "            f1_score(y_train, y_predTrain2, average= 'weighted'),\n",
    "            f1_score(y_train, y_predTrain3, average= 'weighted'),\n",
    "            f1_score(y_train, y_predTrain4, average= 'weighted')]\n",
    "\n",
    "print(\"Testing Data\")\n",
    "m = plt.plot(kernal, T_f1Wei, color = 'blue')\n",
    "plt.title('Data Models vs F1 Weight Average')\n",
    "plt.xlabel('Data Models')\n",
    "plt.ylabel('F1 Weight Average')\n",
    "plt.grid()\n",
    "plt.show(m)\n",
    "\n",
    "print(\"Training Data\")\n",
    "n = plt.plot(kernal, Tr_f1Mac, color = 'red')\n",
    "plt.title('Data Models vs F1 Weight Average')\n",
    "plt.xlabel('Data Models')\n",
    "plt.ylabel('F1 Weight Average')\n",
    "plt.grid()\n",
    "plt.show(n)"
   ]
  },
  {
   "cell_type": "markdown",
   "metadata": {},
   "source": [
    "## Fuzzy Logic Model Using Python"
   ]
  },
  {
   "cell_type": "markdown",
   "metadata": {},
   "source": [
    "#### Importing the required modules"
   ]
  },
  {
   "cell_type": "code",
   "execution_count": 119,
   "metadata": {},
   "outputs": [],
   "source": [
    "import numpy as np\n",
    "import pandas as pd\n",
    "import skfuzzy as fuzz\n",
    "from skfuzzy import control as ctrl\n",
    "import statistics as st"
   ]
  },
  {
   "cell_type": "markdown",
   "metadata": {},
   "source": [
    "### Determine the maximum and minimum values for the columns we chose from three of the features previously identified from feature selection: SpMax_L, nHM and C% as well as for experimental_class(our target variable)."
   ]
  },
  {
   "cell_type": "code",
   "execution_count": 122,
   "metadata": {},
   "outputs": [
    {
     "name": "stdout",
     "output_type": "stream",
     "text": [
      "SpMax_L Minimum 2.0\n",
      "SpMax_L Maximum 6.496\n",
      "4.828\n",
      "nhM Minimum 0\n",
      "nhM Maximum 12\n",
      "0\n",
      "C% Minimum 0.0\n",
      "C% Maximum 60.7\n",
      "37.5\n",
      "NRB\n",
      "RB\n",
      "0        RB\n",
      "1        RB\n",
      "2        RB\n",
      "3        RB\n",
      "4        RB\n",
      "       ... \n",
      "1050    NRB\n",
      "1051    NRB\n",
      "1052    NRB\n",
      "1053    NRB\n",
      "1054    NRB\n",
      "Name: experimental_class, Length: 1055, dtype: object\n"
     ]
    }
   ],
   "source": [
    "#SpMax_L\n",
    "x1min = min(biodeg.SpMax_L)\n",
    "print('SpMax_L Minimum', x1min)\n",
    "x1max = max(biodeg.SpMax_L)\n",
    "print('SpMax_L Maximum', x1max)\n",
    "x1mid = st.median(biodeg.SpMax_L)\n",
    "print(x1mid)\n",
    "\n",
    "#nHM\n",
    "x2min = min(biodeg.nHM)\n",
    "print('nhM Minimum', x2min)\n",
    "x2max = max(biodeg.nHM)\n",
    "print('nhM Maximum', x2max)\n",
    "x2mid = st.median(biodeg.nHM)\n",
    "print(x2mid)\n",
    "\n",
    "#C%\n",
    "x3= biodeg['C%']\n",
    "x3min = min(x3)\n",
    "print('C% Minimum', x3min)\n",
    "x3max = max(x3)\n",
    "print('C% Maximum', x3max)\n",
    "x3mid = st.median(x3)\n",
    "print(x3mid)\n",
    "\n",
    "#experimental_class\n",
    "ymin = min(biodeg.experimental_class)\n",
    "print(ymin)\n",
    "ymax = max(biodeg.experimental_class)\n",
    "print(ymax)\n",
    "y=biodeg.experimental_class\n",
    "print(y)\n"
   ]
  },
  {
   "cell_type": "markdown",
   "metadata": {},
   "source": [
    "### Creating the membership functions for input variables and target variable, and visualise them in graph format"
   ]
  },
  {
   "cell_type": "code",
   "execution_count": 123,
   "metadata": {},
   "outputs": [
    {
     "data": {
      "image/png": "[encoded data removed]",
      "text/plain": [
       "<Figure size 432x288 with 1 Axes>"
      ]
     },
     "metadata": {
      "needs_background": "light"
     },
     "output_type": "display_data"
    },
    {
     "data": {
      "image/png": "[encoded data removed]",
      "text/plain": [
       "<Figure size 432x288 with 1 Axes>"
      ]
     },
     "metadata": {
      "needs_background": "light"
     },
     "output_type": "display_data"
    },
    {
     "data": {
      "image/png": "[encoded data removed]",
      "text/plain": [
       "<Figure size 432x288 with 1 Axes>"
      ]
     },
     "metadata": {
      "needs_background": "light"
     },
     "output_type": "display_data"
    },
    {
     "data": {
      "image/png": "[encoded data removed]",
      "text/plain": [
       "<Figure size 432x288 with 1 Axes>"
      ]
     },
     "metadata": {
      "needs_background": "light"
     },
     "output_type": "display_data"
    }
   ],
   "source": [
    "# Antecedent objects hold universe variables and membership function for input variables\n",
    "SpMax_L = ctrl.Antecedent(np.arange(x1min, x1max, 0.001), 'SpMax_L')\n",
    "nHM = ctrl.Antecedent(np.arange(x2min, x2max, 1), 'nHM')\n",
    "C = ctrl.Antecedent(np.arange(x3min, x3max, 1), 'C')\n",
    "# Consequent object holds the universe variable and member ship function for target variable\n",
    "experimental_class = ctrl.Consequent(np.arange(0, 1, 0.01), 'experimental_class')\n",
    "\n",
    "# Automatic membership function, using automf(3, 5, or 7), with labels low medium and high for numeric input columns\n",
    "names = ['low', 'medium', 'high']\n",
    "SpMax_L.automf(names=names)\n",
    "nHM.automf(names=names)\n",
    "C.automf(names=names)\n",
    "\n",
    "# Custom membership functions using triangular membership function, trimf() using Python API\n",
    "# Labels are 'NRB' and 'RB' but have to be determined using numeric values between 0 and 1\n",
    "experimental_class['NRB'] = fuzz.trimf(experimental_class.universe, [0, 0, 0.5])\n",
    "experimental_class['RB'] = fuzz.trimf(experimental_class.universe, [0.5, 1, 1])\n",
    "\n",
    "# View() to graphically visualise how the membership functions look\n",
    "SpMax_L['medium'].view()\n",
    "\n",
    "nHM['medium'].view()\n",
    "\n",
    "C['medium'].view()\n",
    "\n",
    "experimental_class.view()"
   ]
  },
  {
   "cell_type": "markdown",
   "metadata": {},
   "source": [
    "# Fuzzy Rules\n",
    "### (We create fuzzy relations between the input variables and target variable)\n",
    "\n",
    "### Rule 1: If SpMax_L is high, then experimental_class will be not ready biodegradable (NRB)\n",
    "### Rule 2: If SpMax_L is medium AND C% is medium OR C% is high, then experimental_class will be ready biodegradable (RB)\n",
    "### Rule 3: If SpMax_L is low, then experimental_class will be ready biodegradable (RB)\n",
    "### Rule 4: If SpMax_L is medium AND nHM is low, then experimental_class will be ready biodegradable (RB)"
   ]
  },
  {
   "cell_type": "code",
   "execution_count": 124,
   "metadata": {},
   "outputs": [],
   "source": [
    "rule1 = ctrl.Rule(SpMax_L['high'], experimental_class['NRB'])\n",
    "rule2 = ctrl.Rule(SpMax_L['medium'] & C['medium'] | C['high'], experimental_class['RB'])\n",
    "rule3 = ctrl.Rule(SpMax_L['low'], experimental_class['RB'])\n",
    "rule4 = ctrl.Rule(SpMax_L['medium'] & nHM['low'], experimental_class['RB'])"
   ]
  },
  {
   "cell_type": "code",
   "execution_count": 125,
   "metadata": {},
   "outputs": [
    {
     "name": "stdout",
     "output_type": "stream",
     "text": [
      "Rule 1\n"
     ]
    },
    {
     "data": {
      "text/plain": [
       "(<Figure size 432x288 with 1 Axes>,\n",
       " <matplotlib.axes._subplots.AxesSubplot at 0x2c112047b08>)"
      ]
     },
     "execution_count": 125,
     "metadata": {},
     "output_type": "execute_result"
    },
    {
     "data": {
      "image/png": "[encoded data removed]",
      "text/plain": [
       "<Figure size 432x288 with 1 Axes>"
      ]
     },
     "metadata": {},
     "output_type": "display_data"
    }
   ],
   "source": [
    "print('Rule 1')\n",
    "rule1.view()"
   ]
  },
  {
   "cell_type": "code",
   "execution_count": 126,
   "metadata": {},
   "outputs": [
    {
     "name": "stdout",
     "output_type": "stream",
     "text": [
      "Rule 2\n"
     ]
    },
    {
     "data": {
      "text/plain": [
       "(<Figure size 432x288 with 1 Axes>,\n",
       " <matplotlib.axes._subplots.AxesSubplot at 0x2c1120c7448>)"
      ]
     },
     "execution_count": 126,
     "metadata": {},
     "output_type": "execute_result"
    },
    {
     "data": {
      "image/png": "[encoded data removed]",
      "text/plain": [
       "<Figure size 432x288 with 1 Axes>"
      ]
     },
     "metadata": {},
     "output_type": "display_data"
    }
   ],
   "source": [
    "print('Rule 2')\n",
    "rule2.view()"
   ]
  },
  {
   "cell_type": "code",
   "execution_count": 127,
   "metadata": {},
   "outputs": [
    {
     "name": "stdout",
     "output_type": "stream",
     "text": [
      "Rule 3\n"
     ]
    },
    {
     "data": {
      "text/plain": [
       "(<Figure size 432x288 with 1 Axes>,\n",
       " <matplotlib.axes._subplots.AxesSubplot at 0x2c112127ec8>)"
      ]
     },
     "execution_count": 127,
     "metadata": {},
     "output_type": "execute_result"
    },
    {
     "data": {
      "image/png": "[encoded data removed]",
      "text/plain": [
       "<Figure size 432x288 with 1 Axes>"
      ]
     },
     "metadata": {},
     "output_type": "display_data"
    }
   ],
   "source": [
    "print('Rule 3')\n",
    "rule3.view()"
   ]
  },
  {
   "cell_type": "code",
   "execution_count": 128,
   "metadata": {},
   "outputs": [
    {
     "name": "stdout",
     "output_type": "stream",
     "text": [
      "Rule 4\n"
     ]
    },
    {
     "data": {
      "text/plain": [
       "(<Figure size 432x288 with 1 Axes>,\n",
       " <matplotlib.axes._subplots.AxesSubplot at 0x2c11218c408>)"
      ]
     },
     "execution_count": 128,
     "metadata": {},
     "output_type": "execute_result"
    },
    {
     "data": {
      "image/png": "[encoded data removed]",
      "text/plain": [
       "<Figure size 432x288 with 1 Axes>"
      ]
     },
     "metadata": {},
     "output_type": "display_data"
    }
   ],
   "source": [
    "print('Rule 4')\n",
    "rule4.view()"
   ]
  },
  {
   "cell_type": "markdown",
   "metadata": {},
   "source": [
    "### Creating our control system using the control module from skfuzzy\n",
    "### Creating our controller qsar using ControlSystemSimulation object\n",
    "### Then adding input variable values and computing the simulation"
   ]
  },
  {
   "cell_type": "code",
   "execution_count": 129,
   "metadata": {},
   "outputs": [
    {
     "name": "stdout",
     "output_type": "stream",
     "text": [
      "0.8242684425889997\n"
     ]
    },
    {
     "data": {
      "image/png": "[encoded data removed]",
      "text/plain": [
       "<Figure size 432x288 with 1 Axes>"
      ]
     },
     "metadata": {
      "needs_background": "light"
     },
     "output_type": "display_data"
    }
   ],
   "source": [
    "#control system\n",
    "qsar_ctrl = ctrl.ControlSystem([rule1, rule2, rule3, rule4])   \n",
    "\n",
    "#controller\n",
    "qsar = ctrl.ControlSystemSimulation(qsar_ctrl)\n",
    "\n",
    "#add input\n",
    "qsar.input['SpMax_L'] = 3.919\n",
    "qsar.input['nHM'] = 0\n",
    "qsar.input['C'] = 31.4\n",
    "\n",
    "# Crunch the input\n",
    "qsar.compute()\n",
    "\n",
    "#visualise\n",
    "print (qsar.output['experimental_class'])\n",
    "experimental_class.view(sim=qsar)"
   ]
  }
 ],
 "metadata": {
  "kernelspec": {
   "display_name": "Python 3",
   "language": "python",
   "name": "python3"
  },
  "language_info": {
   "codemirror_mode": {
    "name": "ipython",
    "version": 3
   },
   "file_extension": ".py",
   "mimetype": "text/x-python",
   "name": "python",
   "nbconvert_exporter": "python",
   "pygments_lexer": "ipython3",
   "version": "3.7.6"
  }
 },
 "nbformat": 4,
 "nbformat_minor": 4
}
